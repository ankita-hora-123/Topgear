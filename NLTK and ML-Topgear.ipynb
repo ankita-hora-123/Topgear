{
 "cells": [
  {
   "cell_type": "code",
   "execution_count": 14,
   "metadata": {},
   "outputs": [],
   "source": [
    "import pandas as pd\n",
    "import numpy as np\n",
    "from scipy import stats\n",
    "import matplotlib.pyplot as plt"
   ]
  },
  {
   "cell_type": "code",
   "execution_count": 15,
   "metadata": {},
   "outputs": [
    {
     "data": {
      "text/html": [
       "<div>\n",
       "<style scoped>\n",
       "    .dataframe tbody tr th:only-of-type {\n",
       "        vertical-align: middle;\n",
       "    }\n",
       "\n",
       "    .dataframe tbody tr th {\n",
       "        vertical-align: top;\n",
       "    }\n",
       "\n",
       "    .dataframe thead th {\n",
       "        text-align: right;\n",
       "    }\n",
       "</style>\n",
       "<table border=\"1\" class=\"dataframe\">\n",
       "  <thead>\n",
       "    <tr style=\"text-align: right;\">\n",
       "      <th></th>\n",
       "      <th>Emp#</th>\n",
       "      <th>YearsOfExp</th>\n",
       "      <th>Salary in Rs.</th>\n",
       "    </tr>\n",
       "  </thead>\n",
       "  <tbody>\n",
       "    <tr>\n",
       "      <th>0</th>\n",
       "      <td>1</td>\n",
       "      <td>10</td>\n",
       "      <td>126015</td>\n",
       "    </tr>\n",
       "    <tr>\n",
       "      <th>1</th>\n",
       "      <td>2</td>\n",
       "      <td>1</td>\n",
       "      <td>12598</td>\n",
       "    </tr>\n",
       "    <tr>\n",
       "      <th>2</th>\n",
       "      <td>3</td>\n",
       "      <td>8</td>\n",
       "      <td>100639</td>\n",
       "    </tr>\n",
       "    <tr>\n",
       "      <th>3</th>\n",
       "      <td>4</td>\n",
       "      <td>10</td>\n",
       "      <td>125351</td>\n",
       "    </tr>\n",
       "    <tr>\n",
       "      <th>4</th>\n",
       "      <td>5</td>\n",
       "      <td>2</td>\n",
       "      <td>25031</td>\n",
       "    </tr>\n",
       "  </tbody>\n",
       "</table>\n",
       "</div>"
      ],
      "text/plain": [
       "   Emp#  YearsOfExp  Salary in Rs.\n",
       "0     1          10         126015\n",
       "1     2           1          12598\n",
       "2     3           8         100639\n",
       "3     4          10         125351\n",
       "4     5           2          25031"
      ]
     },
     "execution_count": 15,
     "metadata": {},
     "output_type": "execute_result"
    }
   ],
   "source": [
    "df=pd.read_excel(\"Documents/Topgear/Stats.xlsx\")\n",
    "df.head()"
   ]
  },
  {
   "cell_type": "code",
   "execution_count": 16,
   "metadata": {},
   "outputs": [
    {
     "name": "stdout",
     "output_type": "stream",
     "text": [
      "<class 'pandas.core.frame.DataFrame'>\n",
      "RangeIndex: 25 entries, 0 to 24\n",
      "Data columns (total 3 columns):\n",
      "Emp#             25 non-null int64\n",
      "YearsOfExp       25 non-null int64\n",
      "Salary in Rs.    25 non-null int64\n",
      "dtypes: int64(3)\n",
      "memory usage: 680.0 bytes\n"
     ]
    }
   ],
   "source": [
    "df.info()"
   ]
  },
  {
   "cell_type": "markdown",
   "metadata": {},
   "source": [
    "Applied Statistics"
   ]
  },
  {
   "cell_type": "code",
   "execution_count": 17,
   "metadata": {},
   "outputs": [
    {
     "name": "stdout",
     "output_type": "stream",
     "text": [
      "Means of 3 columns are:\n",
      " Emp#                13.0\n",
      "YearsOfExp           6.2\n",
      "Salary in Rs.    77821.2\n",
      "dtype: float64\n"
     ]
    }
   ],
   "source": [
    "means=np.mean(df,axis=0)\n",
    "print(\"Means of 3 columns are:\\n\",means)"
   ]
  },
  {
   "cell_type": "code",
   "execution_count": 18,
   "metadata": {},
   "outputs": [
    {
     "name": "stdout",
     "output_type": "stream",
     "text": [
      "Modes of 3 columns are:\n",
      " ModeResult(mode=array([[     1,     10, 100639]], dtype=int64), count=array([[1, 5, 2]]))\n"
     ]
    }
   ],
   "source": [
    "mode=stats.mode(df,axis=0)\n",
    "print(\"Modes of 3 columns are:\\n\",mode)"
   ]
  },
  {
   "cell_type": "code",
   "execution_count": 19,
   "metadata": {},
   "outputs": [
    {
     "name": "stdout",
     "output_type": "stream",
     "text": [
      "Medians of 3 columns are:\n",
      " [1.3000e+01 7.0000e+00 8.7654e+04]\n"
     ]
    }
   ],
   "source": [
    "median=np.median(df,axis=0)\n",
    "print(\"Medians of 3 columns are:\\n\",median)"
   ]
  },
  {
   "cell_type": "code",
   "execution_count": 20,
   "metadata": {},
   "outputs": [
    {
     "name": "stdout",
     "output_type": "stream",
     "text": [
      "Standard Deviation of 3 columns are:\n",
      " Emp#                 7.211103\n",
      "YearsOfExp           3.111270\n",
      "Salary in Rs.    39042.529962\n",
      "dtype: float64\n"
     ]
    }
   ],
   "source": [
    "standard_deviation=np.std(df,axis=0)\n",
    "print(\"Standard Deviation of 3 columns are:\\n\",standard_deviation)"
   ]
  },
  {
   "cell_type": "code",
   "execution_count": 21,
   "metadata": {},
   "outputs": [
    {
     "name": "stdout",
     "output_type": "stream",
     "text": [
      "Variance of 3 columns are:\n",
      " Emp#             5.200000e+01\n",
      "YearsOfExp       9.680000e+00\n",
      "Salary in Rs.    1.524319e+09\n",
      "dtype: float64\n"
     ]
    }
   ],
   "source": [
    "variance=np.var(df,axis=0)\n",
    "print(\"Variance of 3 columns are:\\n\",variance)"
   ]
  },
  {
   "cell_type": "markdown",
   "metadata": {},
   "source": [
    "###Natural Language processing"
   ]
  },
  {
   "cell_type": "code",
   "execution_count": 23,
   "metadata": {},
   "outputs": [
    {
     "data": {
      "text/html": [
       "<div>\n",
       "<style scoped>\n",
       "    .dataframe tbody tr th:only-of-type {\n",
       "        vertical-align: middle;\n",
       "    }\n",
       "\n",
       "    .dataframe tbody tr th {\n",
       "        vertical-align: top;\n",
       "    }\n",
       "\n",
       "    .dataframe thead th {\n",
       "        text-align: right;\n",
       "    }\n",
       "</style>\n",
       "<table border=\"1\" class=\"dataframe\">\n",
       "  <thead>\n",
       "    <tr style=\"text-align: right;\">\n",
       "      <th></th>\n",
       "      <th>Comment</th>\n",
       "    </tr>\n",
       "  </thead>\n",
       "  <tbody>\n",
       "    <tr>\n",
       "      <th>0</th>\n",
       "      <td>\"Hello there, how are you? Weather is awesome....</td>\n",
       "    </tr>\n",
       "    <tr>\n",
       "      <th>1</th>\n",
       "      <td>\"Hello Mr. Raja, how are you? Weather is aweso...</td>\n",
       "    </tr>\n",
       "    <tr>\n",
       "      <th>2</th>\n",
       "      <td>\"Hello Mr. Raja, how are you. Weather is bad. ...</td>\n",
       "    </tr>\n",
       "    <tr>\n",
       "      <th>3</th>\n",
       "      <td>\"NLP is great technique. It is nice to learn t...</td>\n",
       "    </tr>\n",
       "    <tr>\n",
       "      <th>4</th>\n",
       "      <td>\"AI is making difference in this world now.  I...</td>\n",
       "    </tr>\n",
       "  </tbody>\n",
       "</table>\n",
       "</div>"
      ],
      "text/plain": [
       "                                             Comment\n",
       "0  \"Hello there, how are you? Weather is awesome....\n",
       "1  \"Hello Mr. Raja, how are you? Weather is aweso...\n",
       "2  \"Hello Mr. Raja, how are you. Weather is bad. ...\n",
       "3  \"NLP is great technique. It is nice to learn t...\n",
       "4  \"AI is making difference in this world now.  I..."
      ]
     },
     "execution_count": 23,
     "metadata": {},
     "output_type": "execute_result"
    }
   ],
   "source": [
    "df=pd.read_csv(\"Documents/Topgear/data_in.csv\")\n",
    "df.head()"
   ]
  },
  {
   "cell_type": "code",
   "execution_count": 80,
   "metadata": {},
   "outputs": [],
   "source": [
    "###Write a python script that reads the data_in.csv from every cell in column\n",
    "#labeled as comment and perform sentence tokenization and redirects in to\n",
    "#column of data_out.csv. Perform the NE Chunking on these sentences.\n",
    "import csv\n",
    "from nltk.tokenize import sent_tokenize\n",
    "list1=[]\n",
    "for i in df[\"Comment\"]:\n",
    "    tokenized_text=sent_tokenize(i)\n",
    "    tokenized_text\n",
    "    list1.append(tokenized_text)\n",
    "with open(\"data_out.csv\",\"w\") as g:\n",
    "    writer=csv.writer(g)\n",
    "    for val in list1:\n",
    "        writer.writerow([val])"
   ]
  },
  {
   "cell_type": "code",
   "execution_count": 83,
   "metadata": {},
   "outputs": [
    {
     "data": {
      "text/html": [
       "<div>\n",
       "<style scoped>\n",
       "    .dataframe tbody tr th:only-of-type {\n",
       "        vertical-align: middle;\n",
       "    }\n",
       "\n",
       "    .dataframe tbody tr th {\n",
       "        vertical-align: top;\n",
       "    }\n",
       "\n",
       "    .dataframe thead th {\n",
       "        text-align: right;\n",
       "    }\n",
       "</style>\n",
       "<table border=\"1\" class=\"dataframe\">\n",
       "  <thead>\n",
       "    <tr style=\"text-align: right;\">\n",
       "      <th></th>\n",
       "      <th>Comment</th>\n",
       "    </tr>\n",
       "  </thead>\n",
       "  <tbody>\n",
       "    <tr>\n",
       "      <th>0</th>\n",
       "      <td>['\"Hello there, how are you?', 'Weather is awe...</td>\n",
       "    </tr>\n",
       "    <tr>\n",
       "      <th>1</th>\n",
       "      <td>['\"Hello Mr. Raja, how are you?', 'Weather is ...</td>\n",
       "    </tr>\n",
       "    <tr>\n",
       "      <th>2</th>\n",
       "      <td>['\"Hello Mr. Raja, how are you.', 'Weather is ...</td>\n",
       "    </tr>\n",
       "    <tr>\n",
       "      <th>3</th>\n",
       "      <td>['\"NLP is great technique.', 'It is nice to le...</td>\n",
       "    </tr>\n",
       "    <tr>\n",
       "      <th>4</th>\n",
       "      <td>['\"AI is making difference in this world now.'...</td>\n",
       "    </tr>\n",
       "  </tbody>\n",
       "</table>\n",
       "</div>"
      ],
      "text/plain": [
       "                                             Comment\n",
       "0  ['\"Hello there, how are you?', 'Weather is awe...\n",
       "1  ['\"Hello Mr. Raja, how are you?', 'Weather is ...\n",
       "2  ['\"Hello Mr. Raja, how are you.', 'Weather is ...\n",
       "3  ['\"NLP is great technique.', 'It is nice to le...\n",
       "4  ['\"AI is making difference in this world now.'..."
      ]
     },
     "execution_count": 83,
     "metadata": {},
     "output_type": "execute_result"
    }
   ],
   "source": [
    "df1=pd.read_csv(\"C:/Users/Ankita/data_out.csv\",names=[\"Comment\"])\n",
    "df1"
   ]
  },
  {
   "cell_type": "code",
   "execution_count": 148,
   "metadata": {},
   "outputs": [],
   "source": [
    "from nltk.tokenize import word_tokenize\n",
    "list1=[]\n",
    "for index in df.index:\n",
    "    for elem in df.iloc[index]:\n",
    "        sentence=sent_tokenize(elem)\n",
    "        for x in sentence:\n",
    "            words=word_tokenize(x)\n",
    "            list1.append([nltk.pos_tag([i]) for i in words if i.isalpha()])\n",
    "        \n",
    "    \n",
    "    \n",
    "    "
   ]
  },
  {
   "cell_type": "code",
   "execution_count": 149,
   "metadata": {},
   "outputs": [
    {
     "name": "stdout",
     "output_type": "stream",
     "text": [
      "[('Hello', 'NN'), ('there', 'RB'), ('how', 'WRB'), ('are', 'VBP'), ('you', 'PRP'), ('Weather', 'NN'), ('is', 'VBZ'), ('awesome', 'NN'), ('Its', 'PRP$'), ('raining', 'VBG'), ('here', 'RB'), ('now', 'RB'), ('Hello', 'NN'), ('Raja', 'NN'), ('how', 'WRB'), ('are', 'VBP'), ('you', 'PRP'), ('Weather', 'NN'), ('is', 'VBZ'), ('awesome', 'NN'), ('Its', 'PRP$'), ('raining', 'VBG'), ('here', 'RB'), ('now', 'RB'), ('Hello', 'NN'), ('Raja', 'NN'), ('how', 'WRB'), ('are', 'VBP'), ('you', 'PRP'), ('Weather', 'NN'), ('is', 'VBZ'), ('bad', 'JJ'), ('Its', 'PRP$'), ('heavily', 'RB'), ('raining', 'VBG'), ('here', 'RB'), ('now', 'RB'), ('NLP', 'NN'), ('is', 'VBZ'), ('great', 'JJ'), ('technique', 'NN'), ('It', 'PRP'), ('is', 'VBZ'), ('nice', 'JJ'), ('to', 'TO'), ('learn', 'NN'), ('this', 'DT'), ('technique', 'NN'), ('AI', 'NN'), ('is', 'VBZ'), ('making', 'VBG'), ('difference', 'NN'), ('in', 'IN'), ('this', 'DT'), ('world', 'NN'), ('now', 'RB'), ('It', 'PRP'), ('would', 'MD'), ('be', 'VB'), ('helpful', 'NN'), ('for', 'IN'), ('betterment', 'NN'), ('of', 'IN'), ('human', 'NN'), ('life', 'NN'), ('We', 'PRP'), ('need', 'NN'), ('to', 'TO'), ('make', 'VB'), ('advantage', 'NN'), ('of', 'IN'), ('that', 'IN')] "
     ]
    }
   ],
   "source": [
    "list2=[]\n",
    "list2=[elem for i in list1 for j in i for elem in j]\n",
    "print(list2,end=\" \")\n"
   ]
  },
  {
   "cell_type": "code",
   "execution_count": 153,
   "metadata": {},
   "outputs": [],
   "source": [
    "##Chunking\n",
    "grammar=\"NP:{<RB.?>*<VB.?>*<JJ>*<NNP>+<NN>?}\"\n",
    "cp=nltk.RegexpParser(grammar)\n",
    "result=cp.parse(list2)\n",
    "result.draw()"
   ]
  },
  {
   "cell_type": "code",
   "execution_count": 158,
   "metadata": {},
   "outputs": [],
   "source": [
    "###Write a python script that reads the data_in.csv from every cell in column\n",
    "#labeled as comment and perform word tokenization and redirects in to column of\n",
    "#data_out.csv\n",
    "result=[]\n",
    "for index in df.index:\n",
    "    for i in df.loc[index]:\n",
    "        words=word_tokenize(i)\n",
    "        result.append(words)\n",
    "with open(\"data_out.csv\",\"w\") as g:\n",
    "    writer=csv.writer(g)\n",
    "    for val in result:\n",
    "        writer.writerow([val])\n",
    "        "
   ]
  },
  {
   "cell_type": "code",
   "execution_count": 163,
   "metadata": {},
   "outputs": [
    {
     "data": {
      "text/html": [
       "<div>\n",
       "<style scoped>\n",
       "    .dataframe tbody tr th:only-of-type {\n",
       "        vertical-align: middle;\n",
       "    }\n",
       "\n",
       "    .dataframe tbody tr th {\n",
       "        vertical-align: top;\n",
       "    }\n",
       "\n",
       "    .dataframe thead th {\n",
       "        text-align: right;\n",
       "    }\n",
       "</style>\n",
       "<table border=\"1\" class=\"dataframe\">\n",
       "  <thead>\n",
       "    <tr style=\"text-align: right;\">\n",
       "      <th></th>\n",
       "      <th>Tokenized Words</th>\n",
       "    </tr>\n",
       "  </thead>\n",
       "  <tbody>\n",
       "    <tr>\n",
       "      <th>0</th>\n",
       "      <td>['``', 'Hello', 'there', ',', 'how', 'are', 'y...</td>\n",
       "    </tr>\n",
       "    <tr>\n",
       "      <th>1</th>\n",
       "      <td>['``', 'Hello', 'Mr.', 'Raja', ',', 'how', 'ar...</td>\n",
       "    </tr>\n",
       "    <tr>\n",
       "      <th>2</th>\n",
       "      <td>['``', 'Hello', 'Mr.', 'Raja', ',', 'how', 'ar...</td>\n",
       "    </tr>\n",
       "    <tr>\n",
       "      <th>3</th>\n",
       "      <td>['``', 'NLP', 'is', 'great', 'technique', '.',...</td>\n",
       "    </tr>\n",
       "    <tr>\n",
       "      <th>4</th>\n",
       "      <td>['``', 'AI', 'is', 'making', 'difference', 'in...</td>\n",
       "    </tr>\n",
       "  </tbody>\n",
       "</table>\n",
       "</div>"
      ],
      "text/plain": [
       "                                     Tokenized Words\n",
       "0  ['``', 'Hello', 'there', ',', 'how', 'are', 'y...\n",
       "1  ['``', 'Hello', 'Mr.', 'Raja', ',', 'how', 'ar...\n",
       "2  ['``', 'Hello', 'Mr.', 'Raja', ',', 'how', 'ar...\n",
       "3  ['``', 'NLP', 'is', 'great', 'technique', '.',...\n",
       "4  ['``', 'AI', 'is', 'making', 'difference', 'in..."
      ]
     },
     "execution_count": 163,
     "metadata": {},
     "output_type": "execute_result"
    }
   ],
   "source": [
    "df1=pd.read_csv(\"C:/Users/Ankita/data_out.csv\",names=[\"Tokenized Words\"])\n",
    "df1.head()"
   ]
  },
  {
   "cell_type": "code",
   "execution_count": 166,
   "metadata": {},
   "outputs": [
    {
     "name": "stderr",
     "output_type": "stream",
     "text": [
      "[nltk_data] Downloading package state_union to\n",
      "[nltk_data]     C:\\Users\\Ankita\\AppData\\Roaming\\nltk_data...\n",
      "[nltk_data]   Unzipping corpora\\state_union.zip.\n"
     ]
    }
   ],
   "source": [
    "###From an input file data.txt it is required to identify the POS-Tagging and\n",
    "#display it on tree structure.\n",
    "nltk.download(\"state_union\")\n",
    "from nltk.corpus import state_union\n",
    "from nltk.tokenize import PunktSentenceTokenizer"
   ]
  },
  {
   "cell_type": "code",
   "execution_count": 176,
   "metadata": {},
   "outputs": [
    {
     "name": "stdout",
     "output_type": "stream",
     "text": [
      "['Hello there, how are you?', 'Weather is awesome.', 'Its raining here now.', 'Hello Mr.', 'Raja, how are you?', 'Weather is awesome.', 'Its raining here now.', 'Hello Mr.', 'Raja, how are you.', 'Weather is bad.', 'Its heavily raining here now.', 'NLP is great technique.', 'It is nice to learn this technique.', 'AI is making difference in this world now.', 'It would be helpful for betterment of human life.', 'We need to make advantage of that.']/n"
     ]
    }
   ],
   "source": [
    "data=state_union.raw(\"C:/Users/Ankita/Documents/Topgear/data.txt\")\n",
    "model=PunktSentenceTokenizer()\n",
    "tokenized=model.tokenize(data)\n",
    "print(tokenized,end=\"/n\")\n"
   ]
  },
  {
   "cell_type": "code",
   "execution_count": 182,
   "metadata": {},
   "outputs": [],
   "source": [
    "def process_content(tokenized):\n",
    "    try:\n",
    "        for i in tokenized:\n",
    "            words=nltk.word_tokenize(i)\n",
    "            tagged=nltk.pos_tag(words)\n",
    "            print(tagged)\n",
    "    except Exception as e:\n",
    "        print(str(e))\n",
    "        "
   ]
  },
  {
   "cell_type": "code",
   "execution_count": 210,
   "metadata": {},
   "outputs": [
    {
     "name": "stdout",
     "output_type": "stream",
     "text": [
      "[('Hello', 'NNP'), ('there', 'RB'), (',', ','), ('how', 'WRB'), ('are', 'VBP'), ('you', 'PRP'), ('?', '.')]\n",
      "[('Weather', 'NNP'), ('is', 'VBZ'), ('awesome', 'JJ'), ('.', '.')]\n",
      "[('Its', 'PRP$'), ('raining', 'VBG'), ('here', 'RB'), ('now', 'RB'), ('.', '.')]\n",
      "[('Hello', 'NNP'), ('Mr', 'NNP'), ('.', '.')]\n",
      "[('Raja', 'NNP'), (',', ','), ('how', 'WRB'), ('are', 'VBP'), ('you', 'PRP'), ('?', '.')]\n",
      "[('Weather', 'NNP'), ('is', 'VBZ'), ('awesome', 'JJ'), ('.', '.')]\n",
      "[('Its', 'PRP$'), ('raining', 'VBG'), ('here', 'RB'), ('now', 'RB'), ('.', '.')]\n",
      "[('Hello', 'NNP'), ('Mr', 'NNP'), ('.', '.')]\n",
      "[('Raja', 'NNP'), (',', ','), ('how', 'WRB'), ('are', 'VBP'), ('you', 'PRP'), ('.', '.')]\n",
      "[('Weather', 'NNP'), ('is', 'VBZ'), ('bad', 'JJ'), ('.', '.')]\n",
      "[('Its', 'PRP$'), ('heavily', 'RB'), ('raining', 'VBG'), ('here', 'RB'), ('now', 'RB'), ('.', '.')]\n",
      "[('NLP', 'NNP'), ('is', 'VBZ'), ('great', 'JJ'), ('technique', 'NN'), ('.', '.')]\n",
      "[('It', 'PRP'), ('is', 'VBZ'), ('nice', 'JJ'), ('to', 'TO'), ('learn', 'VB'), ('this', 'DT'), ('technique', 'NN'), ('.', '.')]\n",
      "[('AI', 'NNP'), ('is', 'VBZ'), ('making', 'VBG'), ('difference', 'NN'), ('in', 'IN'), ('this', 'DT'), ('world', 'NN'), ('now', 'RB'), ('.', '.')]\n",
      "[('It', 'PRP'), ('would', 'MD'), ('be', 'VB'), ('helpful', 'JJ'), ('for', 'IN'), ('betterment', 'NN'), ('of', 'IN'), ('human', 'JJ'), ('life', 'NN'), ('.', '.')]\n",
      "[('We', 'PRP'), ('need', 'VBP'), ('to', 'TO'), ('make', 'VB'), ('advantage', 'NN'), ('of', 'IN'), ('that', 'DT'), ('.', '.')]\n"
     ]
    }
   ],
   "source": [
    "process_content(tokenized)"
   ]
  },
  {
   "cell_type": "code",
   "execution_count": 202,
   "metadata": {},
   "outputs": [
    {
     "name": "stdout",
     "output_type": "stream",
     "text": [
      "{'theirs', \"she's\", 'your', 'into', 'haven', \"wasn't\", 'was', 'hadn', 're', \"needn't\", 'yours', \"you'd\", 'about', 'y', 'having', 'that', 'did', 't', 'am', 'we', \"don't\", 'o', 'own', 'ma', \"won't\", 'himself', 'too', 'each', 'or', 'won', 'under', \"shan't\", 'have', 'mustn', 'isn', 'against', 'mightn', 'before', 's', 'until', \"doesn't\", 'has', 'her', 'wasn', \"weren't\", 'who', 'again', 'off', 'as', 'because', 'ain', 'down', 'herself', 'be', 'weren', \"hadn't\", 'couldn', 'very', 'me', 'than', 'just', 'been', 'up', 'over', 'here', 'out', \"wouldn't\", 'yourself', 'shan', 'where', 'you', 'is', 'do', 'when', \"should've\", 'ours', 'will', \"hasn't\", 'them', \"it's\", 'only', 'm', 'd', 'its', 'same', \"couldn't\", 'should', 'doesn', 'whom', 'him', 'there', 'hers', 'a', 'above', 'an', \"you're\", 'those', 'any', 'during', 'itself', 'by', 'wouldn', 'my', 'doing', 'our', 'they', 'below', 'themselves', 'which', 'while', 'between', 'few', 'can', 'then', 'll', 'how', 'in', 'didn', 'to', \"mightn't\", 'being', 'nor', \"isn't\", \"you'll\", 'their', 'don', 'other', \"mustn't\", 'both', 'most', \"aren't\", 'such', 'and', 'at', 'it', 'his', 'further', 'i', 'shouldn', \"shouldn't\", 'so', 'on', 'not', 'through', 'more', 'needn', 'with', \"didn't\", 'of', 've', 'all', 'why', 'for', \"that'll\", 'these', 'were', 'now', 'no', 'once', \"you've\", 'hasn', 'he', 'are', 'some', 'she', 'yourselves', 'myself', 'this', 'but', 'if', \"haven't\", 'had', 'ourselves', 'the', 'from', 'does', 'aren', 'what', 'after'} "
     ]
    }
   ],
   "source": [
    "##For a given text file exclude the stop words and perform the Stemming &\n",
    "#lemmatization and compare the results.\n",
    "\n",
    "\n",
    "from nltk.corpus import stopwords\n",
    "stop_words=set(stopwords.words(\"english\"))\n",
    "print(stop_words,end=\" \")"
   ]
  },
  {
   "cell_type": "code",
   "execution_count": 212,
   "metadata": {},
   "outputs": [
    {
     "name": "stdout",
     "output_type": "stream",
     "text": [
      "['hello', 'weather', 'awesome', 'raining', 'hello', 'mr', 'raja', 'weather', 'awesome', 'raining', 'hello', 'mr', 'raja', 'weather', 'bad', 'heavily', 'raining', 'nlp', 'great', 'technique', 'nice', 'learn', 'technique', 'ai', 'making', 'difference', 'world', 'would', 'helpful', 'betterment', 'human', 'life', 'need', 'make', 'advantage'] "
     ]
    }
   ],
   "source": [
    "l1=[]\n",
    "for sentence in tokenized:\n",
    "    words=word_tokenize(sentence)\n",
    "    for elem in words:\n",
    "        elem=elem.lower()\n",
    "        if elem not in stop_words and elem.isalpha():\n",
    "            l1.append(elem)\n",
    "print(l1,end=\" \")\n",
    "\n",
    "        "
   ]
  },
  {
   "cell_type": "code",
   "execution_count": 234,
   "metadata": {},
   "outputs": [
    {
     "name": "stdout",
     "output_type": "stream",
     "text": [
      "[[('hello', 'NN')], [('weather', 'NN')], [('awesome', 'NN')], [('raining', 'VBG')], [('hello', 'NN')], [('mr', 'NN')], [('raja', 'NN')], [('weather', 'NN')], [('awesome', 'NN')], [('raining', 'VBG')], [('hello', 'NN')], [('mr', 'NN')], [('raja', 'NN')], [('weather', 'NN')], [('bad', 'JJ')], [('heavily', 'RB')], [('raining', 'VBG')], [('nlp', 'NN')], [('great', 'JJ')], [('technique', 'NN')], [('nice', 'JJ')], [('learn', 'NN')], [('technique', 'NN')], [('ai', 'NN')], [('making', 'VBG')], [('difference', 'NN')], [('world', 'NN')], [('would', 'MD')], [('helpful', 'NN')], [('betterment', 'NN')], [('human', 'NN')], [('life', 'NN')], [('need', 'NN')], [('make', 'VB')], [('advantage', 'NN')]] "
     ]
    }
   ],
   "source": [
    "l2=[]\n",
    "for elem in l1:\n",
    "    l2.append(nltk.pos_tag([elem]))\n",
    "print(l2,end=\" \")\n",
    "\n"
   ]
  },
  {
   "cell_type": "code",
   "execution_count": 235,
   "metadata": {},
   "outputs": [
    {
     "name": "stdout",
     "output_type": "stream",
     "text": [
      "Filtered Words:\n",
      " ['hello', 'weather', 'awesome', 'raining', 'hello', 'mr', 'raja', 'weather', 'awesome', 'raining', 'hello', 'mr', 'raja', 'weather', 'bad', 'heavily', 'raining', 'nlp', 'great', 'technique', 'nice', 'learn', 'technique', 'ai', 'making', 'difference', 'world', 'would', 'helpful', 'betterment', 'human', 'life', 'need', 'make', 'advantage'] \n",
      "\n",
      "\n",
      "Stemmed Words:\n",
      " ['hello', 'weather', 'awesom', 'rain', 'hello', 'mr', 'raja', 'weather', 'awesom', 'rain', 'hello', 'mr', 'raja', 'weather', 'bad', 'heavili', 'rain', 'nlp', 'great', 'techniqu', 'nice', 'learn', 'techniqu', 'ai', 'make', 'differ', 'world', 'would', 'help', 'better', 'human', 'life', 'need', 'make', 'advantag'] "
     ]
    }
   ],
   "source": [
    "from nltk.stem import PorterStemmer\n",
    "ps=PorterStemmer()\n",
    "stemmed_words=[]\n",
    "for elem in l1:\n",
    "    stemmed_words.append(ps.stem(elem))\n",
    "print(\"Filtered Words:\\n\",l1,end=\" \")\n",
    "print(\"\\n\\n\\nStemmed Words:\\n\",stemmed_words,end=\" \")\n"
   ]
  },
  {
   "cell_type": "code",
   "execution_count": 236,
   "metadata": {},
   "outputs": [],
   "source": [
    "def get_pos_tag(tag):\n",
    "    if tag.startswith(\"V\"):\n",
    "        return \"v\"\n",
    "    elif tag.startswith(\"N\"):\n",
    "        return \"n\"\n",
    "    elif tag.startswith(\"J\"):\n",
    "        return \"a\"\n",
    "    elif tag.startswith(\"R\"):\n",
    "        return \"r\"\n",
    "    else:\n",
    "        return \"n\""
   ]
  },
  {
   "cell_type": "code",
   "execution_count": 237,
   "metadata": {},
   "outputs": [
    {
     "name": "stdout",
     "output_type": "stream",
     "text": [
      "Filtered Words:\n",
      " ['hello', 'weather', 'awesome', 'raining', 'hello', 'mr', 'raja', 'weather', 'awesome', 'raining', 'hello', 'mr', 'raja', 'weather', 'bad', 'heavily', 'raining', 'nlp', 'great', 'technique', 'nice', 'learn', 'technique', 'ai', 'making', 'difference', 'world', 'would', 'helpful', 'betterment', 'human', 'life', 'need', 'make', 'advantage'] \n",
      "\n",
      "\n",
      "Lemmatized Words:\n",
      " ['hello', 'weather', 'awesome', 'rain', 'hello', 'mr', 'raja', 'weather', 'awesome', 'rain', 'hello', 'mr', 'raja', 'weather', 'bad', 'heavi', 'rain', 'nlp', 'great', 'technique', 'nice', 'learn', 'technique', 'ai', 'make', 'difference', 'world', 'would', 'helpful', 'betterment', 'human', 'life', 'need', 'make', 'advantage'] "
     ]
    }
   ],
   "source": [
    "from nltk.stem.wordnet import WordNetLemmatizer\n",
    "lem=WordNetLemmatizer()\n",
    "lemmatized_words=[]\n",
    "for i in range(len(l1)):\n",
    "    tag=get_pos_tag(l2[i][0][1])\n",
    "    if tag==\"r\":\n",
    "        if(l1[i].endswith(\"ly\")):\n",
    "            lemmatized_words.append(l1[i].replace(\"ly\",\"\"))\n",
    "    else:\n",
    "        lemmatized_words.append(lem.lemmatize(l1[i],pos=tag))\n",
    "print(\"Filtered Words:\\n\",l1,end=\" \")\n",
    "print(\"\\n\\n\\nLemmatized Words:\\n\",lemmatized_words,end=\" \")\n"
   ]
  },
  {
   "cell_type": "code",
   "execution_count": 1,
   "metadata": {},
   "outputs": [
    {
     "name": "stdout",
     "output_type": "stream",
     "text": [
      "neg_words=[\"hate\",\"hatred\",\"annoyed\",\"annoy\",\"annoyingly\",\"nasty\"]\r\n",
      "pos_words=[\"nice\",\"excellent\",\"good\",\"wonderful\",\"best\",\"better\",\"awesome\",\"beautiful\",\"beauty\",\"beautifully\",\"supreme\"]\r\n",
      "\n"
     ]
    }
   ],
   "source": [
    "###Create a small dictionary file with required set of words with weightage\n",
    "#attached to it with positive and negative numbers. Create a python script that\n",
    "#analyzes the given text file and classify it as negative or positive sentiment.\n",
    "\n",
    "from nltk.corpus import state_union\n",
    "data=state_union.raw(\"C:/Users/Ankita/Documents/Topgear/dict.txt\")\n",
    "print(data)\n"
   ]
  },
  {
   "cell_type": "code",
   "execution_count": 2,
   "metadata": {},
   "outputs": [],
   "source": [
    "a=data.split(\"\\r\\n\")\n",
    "dict1={}\n"
   ]
  },
  {
   "cell_type": "code",
   "execution_count": 4,
   "metadata": {},
   "outputs": [
    {
     "data": {
      "text/plain": [
       "{'neg_words': '[\"hate\",\"hatred\",\"annoyed\",\"annoy\",\"annoyingly\",\"nasty\"]',\n",
       " 'pos_words': '[\"nice\",\"excellent\",\"good\",\"wonderful\",\"best\",\"better\",\"awesome\",\"beautiful\",\"beauty\",\"beautifully\",\"supreme\"]'}"
      ]
     },
     "execution_count": 4,
     "metadata": {},
     "output_type": "execute_result"
    }
   ],
   "source": [
    "for x in data.split(\"\\r\\n\"):\n",
    "    temp=x.split(\"=\")\n",
    "    while(\"\" in temp):\n",
    "        temp.remove(\"\")\n",
    "    if(len(temp)>0):\n",
    "        dict1[temp[0]]=temp[1]\n",
    "    #print(dict(temp))\n",
    "dict1\n",
    "        \n",
    "        \n",
    "\n",
    "    \n",
    "     \n",
    "        \n",
    "        \n",
    "        \n"
   ]
  },
  {
   "cell_type": "code",
   "execution_count": 13,
   "metadata": {},
   "outputs": [
    {
     "data": {
      "text/plain": [
       "['Rose is beautiful.',\n",
       " 'Place is nasty to stay.',\n",
       " 'This is the beauty of this technique.',\n",
       " 'Concept is explained beautifully in this book.',\n",
       " 'He annoyed me.',\n",
       " 'Its the supreme place to stay.',\n",
       " 'I hate this place.',\n",
       " 'Dont annoy the customer.',\n",
       " 'He has given nasty comments about his stay.',\n",
       " 'Dessert is awesome.',\n",
       " 'Your gift is wonderful.']"
      ]
     },
     "execution_count": 13,
     "metadata": {},
     "output_type": "execute_result"
    }
   ],
   "source": [
    "import nltk\n",
    "from nltk.corpus import state_union\n",
    "data=state_union.raw(\"C:/Users/Ankita/Documents/Topgear/senti_analyze.txt\")\n",
    "sentence=nltk.tokenize.sent_tokenize(data)\n",
    "sentence"
   ]
  },
  {
   "cell_type": "code",
   "execution_count": 16,
   "metadata": {},
   "outputs": [],
   "source": [
    "from nltk.sentiment.vader import SentimentIntensityAnalyzer\n",
    "sid=SentimentIntensityAnalyzer()\n"
   ]
  },
  {
   "cell_type": "code",
   "execution_count": 22,
   "metadata": {},
   "outputs": [
    {
     "name": "stdout",
     "output_type": "stream",
     "text": [
      "Rose is beautiful.\n",
      "neg:0.0neu:0.339pos:0.661compound:0.5994\n",
      "Place is nasty to stay.\n",
      "neg:0.474neu:0.526pos:0.0compound:-0.5574\n",
      "This is the beauty of this technique.\n",
      "neg:0.0neu:0.612pos:0.388compound:0.5859\n",
      "Concept is explained beautifully in this book.\n",
      "neg:0.0neu:0.619pos:0.381compound:0.5719\n",
      "He annoyed me.\n",
      "neg:0.565neu:0.435pos:0.0compound:-0.3818\n",
      "Its the supreme place to stay.\n",
      "neg:0.0neu:0.581pos:0.419compound:0.5574\n",
      "I hate this place.\n",
      "neg:0.649neu:0.351pos:0.0compound:-0.5719\n",
      "Dont annoy the customer.\n",
      "neg:0.0neu:0.555pos:0.445compound:0.3412\n",
      "He has given nasty comments about his stay.\n",
      "neg:0.34neu:0.66pos:0.0compound:-0.5574\n",
      "Dessert is awesome.\n",
      "neg:0.0neu:0.328pos:0.672compound:0.6249\n",
      "Your gift is wonderful.\n",
      "neg:0.0neu:0.233pos:0.767compound:0.765\n"
     ]
    }
   ],
   "source": [
    "for elems in sentence:\n",
    "    res=sid.polarity_scores(elems)\n",
    "    print(elems)\n",
    "    for k in res:\n",
    "        print(\"{}:{}\".format(k,res[k]),end=\"\")\n",
    "    print()\n",
    "    "
   ]
  },
  {
   "cell_type": "markdown",
   "metadata": {},
   "source": [
    "##Machine Learning Linear Regression assignments\n",
    "\n"
   ]
  },
  {
   "cell_type": "code",
   "execution_count": 2,
   "metadata": {},
   "outputs": [
    {
     "data": {
      "text/html": [
       "<div>\n",
       "<style scoped>\n",
       "    .dataframe tbody tr th:only-of-type {\n",
       "        vertical-align: middle;\n",
       "    }\n",
       "\n",
       "    .dataframe tbody tr th {\n",
       "        vertical-align: top;\n",
       "    }\n",
       "\n",
       "    .dataframe thead th {\n",
       "        text-align: right;\n",
       "    }\n",
       "</style>\n",
       "<table border=\"1\" class=\"dataframe\">\n",
       "  <thead>\n",
       "    <tr style=\"text-align: right;\">\n",
       "      <th></th>\n",
       "      <th>mpg: continuous</th>\n",
       "      <th>cylinders: multi-valued discrete</th>\n",
       "      <th>displacement: continuous</th>\n",
       "      <th>horsepower: continuous</th>\n",
       "      <th>weight: continuous</th>\n",
       "      <th>acceleration: continuous</th>\n",
       "      <th>model year: multi-valued discrete</th>\n",
       "      <th>origin: multi-valued discrete</th>\n",
       "      <th>car name: string (unique for each instance)</th>\n",
       "    </tr>\n",
       "  </thead>\n",
       "  <tbody>\n",
       "    <tr>\n",
       "      <th>0</th>\n",
       "      <td>18.0</td>\n",
       "      <td>8</td>\n",
       "      <td>307.0</td>\n",
       "      <td>130.0</td>\n",
       "      <td>3504.</td>\n",
       "      <td>12.0</td>\n",
       "      <td>70</td>\n",
       "      <td>1</td>\n",
       "      <td>\"chevrolet chevelle malibu\"</td>\n",
       "    </tr>\n",
       "    <tr>\n",
       "      <th>1</th>\n",
       "      <td>15.0</td>\n",
       "      <td>8</td>\n",
       "      <td>350.0</td>\n",
       "      <td>165.0</td>\n",
       "      <td>3693.</td>\n",
       "      <td>11.5</td>\n",
       "      <td>70</td>\n",
       "      <td>1</td>\n",
       "      <td>\"buick skylark 320\"</td>\n",
       "    </tr>\n",
       "    <tr>\n",
       "      <th>2</th>\n",
       "      <td>18.0</td>\n",
       "      <td>8</td>\n",
       "      <td>318.0</td>\n",
       "      <td>150.0</td>\n",
       "      <td>3436.</td>\n",
       "      <td>11.0</td>\n",
       "      <td>70</td>\n",
       "      <td>1</td>\n",
       "      <td>\"plymouth satellite\"</td>\n",
       "    </tr>\n",
       "    <tr>\n",
       "      <th>3</th>\n",
       "      <td>16.0</td>\n",
       "      <td>8</td>\n",
       "      <td>304.0</td>\n",
       "      <td>150.0</td>\n",
       "      <td>3433.</td>\n",
       "      <td>12.0</td>\n",
       "      <td>70</td>\n",
       "      <td>1</td>\n",
       "      <td>\"amc rebel sst\"</td>\n",
       "    </tr>\n",
       "    <tr>\n",
       "      <th>4</th>\n",
       "      <td>17.0</td>\n",
       "      <td>8</td>\n",
       "      <td>302.0</td>\n",
       "      <td>140.0</td>\n",
       "      <td>3449.</td>\n",
       "      <td>10.5</td>\n",
       "      <td>70</td>\n",
       "      <td>1</td>\n",
       "      <td>\"ford torino\"</td>\n",
       "    </tr>\n",
       "  </tbody>\n",
       "</table>\n",
       "</div>"
      ],
      "text/plain": [
       "  mpg: continuous cylinders: multi-valued discrete displacement: continuous  \\\n",
       "0            18.0                                8                    307.0   \n",
       "1            15.0                                8                    350.0   \n",
       "2            18.0                                8                    318.0   \n",
       "3            16.0                                8                    304.0   \n",
       "4            17.0                                8                    302.0   \n",
       "\n",
       "  horsepower: continuous weight: continuous acceleration: continuous  \\\n",
       "0                  130.0              3504.                     12.0   \n",
       "1                  165.0              3693.                     11.5   \n",
       "2                  150.0              3436.                     11.0   \n",
       "3                  150.0              3433.                     12.0   \n",
       "4                  140.0              3449.                     10.5   \n",
       "\n",
       "  model year: multi-valued discrete origin: multi-valued discrete  \\\n",
       "0                                70                             1   \n",
       "1                                70                             1   \n",
       "2                                70                             1   \n",
       "3                                70                             1   \n",
       "4                                70                             1   \n",
       "\n",
       "  car name: string (unique for each instance)  \n",
       "0                 \"chevrolet chevelle malibu\"  \n",
       "1                         \"buick skylark 320\"  \n",
       "2                        \"plymouth satellite\"  \n",
       "3                             \"amc rebel sst\"  \n",
       "4                               \"ford torino\"  "
      ]
     },
     "execution_count": 2,
     "metadata": {},
     "output_type": "execute_result"
    }
   ],
   "source": [
    "import numpy as np\n",
    "import pandas as pd\n",
    "url=\"https://archive.ics.uci.edu/ml/machine-learning-databases/auto-mpg/auto-mpg.data\"\n",
    "\n",
    "df=pd.read_csv(url,names=[\"mpg: continuous\",\"cylinders: multi-valued discrete\",\"displacement: continuous\",\n",
    "                         \"horsepower: continuous\",\"weight: continuous\",\"acceleration: continuous\",\n",
    "                         \"model year: multi-valued discrete\",\"origin: multi-valued discrete\",\n",
    "                         \"car name: string (unique for each instance)\"])\n",
    "\n",
    "df2=pd.DataFrame(df[\"mpg: continuous\"])\n",
    "df2=df2[\"mpg: continuous\"].str.split(expand=True)\n",
    "df2[\"car name: string (unique for each instance)\"]=df2[df2.columns[8:]].apply(lambda x:\" \".\n",
    "                                                                              join(x.dropna().astype(str)),axis=1)\n",
    "df2.drop(df2.columns[[8,9,10,11,12,13]],axis=1,inplace=True)\n",
    "df2.columns=[\"mpg: continuous\",\"cylinders: multi-valued discrete\",\"displacement: continuous\",\n",
    "                         \"horsepower: continuous\",\"weight: continuous\",\"acceleration: continuous\",\n",
    "                         \"model year: multi-valued discrete\",\"origin: multi-valued discrete\",\n",
    "                         \"car name: string (unique for each instance)\"]\n",
    "df2.head()\n"
   ]
  },
  {
   "cell_type": "code",
   "execution_count": 3,
   "metadata": {},
   "outputs": [
    {
     "data": {
      "text/plain": [
       "(398, 9)"
      ]
     },
     "execution_count": 3,
     "metadata": {},
     "output_type": "execute_result"
    }
   ],
   "source": [
    "df2.shape"
   ]
  },
  {
   "cell_type": "code",
   "execution_count": 4,
   "metadata": {},
   "outputs": [],
   "source": [
    "df2=df2.replace(\"?\",np.nan)"
   ]
  },
  {
   "cell_type": "code",
   "execution_count": 5,
   "metadata": {},
   "outputs": [
    {
     "name": "stdout",
     "output_type": "stream",
     "text": [
      "<class 'pandas.core.frame.DataFrame'>\n",
      "RangeIndex: 398 entries, 0 to 397\n",
      "Data columns (total 9 columns):\n",
      "mpg: continuous                                398 non-null object\n",
      "cylinders: multi-valued discrete               398 non-null object\n",
      "displacement: continuous                       398 non-null object\n",
      "horsepower: continuous                         392 non-null object\n",
      "weight: continuous                             398 non-null object\n",
      "acceleration: continuous                       398 non-null object\n",
      "model year: multi-valued discrete              398 non-null object\n",
      "origin: multi-valued discrete                  398 non-null object\n",
      "car name: string (unique for each instance)    398 non-null object\n",
      "dtypes: object(9)\n",
      "memory usage: 28.1+ KB\n"
     ]
    }
   ],
   "source": [
    "df2.info()"
   ]
  },
  {
   "cell_type": "code",
   "execution_count": 6,
   "metadata": {},
   "outputs": [
    {
     "name": "stdout",
     "output_type": "stream",
     "text": [
      "<class 'pandas.core.frame.DataFrame'>\n",
      "RangeIndex: 398 entries, 0 to 397\n",
      "Data columns (total 9 columns):\n",
      "mpg: continuous                                398 non-null object\n",
      "cylinders: multi-valued discrete               398 non-null object\n",
      "displacement: continuous                       398 non-null object\n",
      "horsepower: continuous                         398 non-null float64\n",
      "weight: continuous                             398 non-null object\n",
      "acceleration: continuous                       398 non-null object\n",
      "model year: multi-valued discrete              398 non-null object\n",
      "origin: multi-valued discrete                  398 non-null object\n",
      "car name: string (unique for each instance)    398 non-null object\n",
      "dtypes: float64(1), object(8)\n",
      "memory usage: 28.1+ KB\n"
     ]
    }
   ],
   "source": [
    "df2[\"horsepower: continuous\"]=df2[\"horsepower: continuous\"].astype(float)\n",
    "df2[\"horsepower: continuous\"]=df2[\"horsepower: continuous\"].fillna(df2[\"horsepower: continuous\"].mean())\n",
    "df2.info()"
   ]
  },
  {
   "cell_type": "code",
   "execution_count": 8,
   "metadata": {},
   "outputs": [
    {
     "data": {
      "image/png": "[encoded data removed]",
      "text/plain": [
       "<Figure size 432x288 with 2 Axes>"
      ]
     },
     "metadata": {
      "needs_background": "light"
     },
     "output_type": "display_data"
    }
   ],
   "source": [
    "import matplotlib.pyplot as plt\n",
    "import seaborn as sns\n",
    "sns.heatmap(df2.isnull())\n",
    "plt.show()"
   ]
  },
  {
   "cell_type": "code",
   "execution_count": 9,
   "metadata": {},
   "outputs": [],
   "source": [
    "df2.index=df2[\"car name: string (unique for each instance)\"]\n",
    "df2.drop(columns=[\"car name: string (unique for each instance)\"],axis=1,inplace=True)"
   ]
  },
  {
   "cell_type": "code",
   "execution_count": 10,
   "metadata": {},
   "outputs": [
    {
     "data": {
      "text/html": [
       "<div>\n",
       "<style scoped>\n",
       "    .dataframe tbody tr th:only-of-type {\n",
       "        vertical-align: middle;\n",
       "    }\n",
       "\n",
       "    .dataframe tbody tr th {\n",
       "        vertical-align: top;\n",
       "    }\n",
       "\n",
       "    .dataframe thead th {\n",
       "        text-align: right;\n",
       "    }\n",
       "</style>\n",
       "<table border=\"1\" class=\"dataframe\">\n",
       "  <thead>\n",
       "    <tr style=\"text-align: right;\">\n",
       "      <th></th>\n",
       "      <th>mpg: continuous</th>\n",
       "      <th>cylinders: multi-valued discrete</th>\n",
       "      <th>displacement: continuous</th>\n",
       "      <th>horsepower: continuous</th>\n",
       "      <th>weight: continuous</th>\n",
       "      <th>acceleration: continuous</th>\n",
       "      <th>model year: multi-valued discrete</th>\n",
       "      <th>origin: multi-valued discrete</th>\n",
       "    </tr>\n",
       "    <tr>\n",
       "      <th>car name: string (unique for each instance)</th>\n",
       "      <th></th>\n",
       "      <th></th>\n",
       "      <th></th>\n",
       "      <th></th>\n",
       "      <th></th>\n",
       "      <th></th>\n",
       "      <th></th>\n",
       "      <th></th>\n",
       "    </tr>\n",
       "  </thead>\n",
       "  <tbody>\n",
       "    <tr>\n",
       "      <th>\"chevrolet chevelle malibu\"</th>\n",
       "      <td>18.0</td>\n",
       "      <td>8</td>\n",
       "      <td>307.0</td>\n",
       "      <td>130.0</td>\n",
       "      <td>3504.</td>\n",
       "      <td>12.0</td>\n",
       "      <td>70</td>\n",
       "      <td>1</td>\n",
       "    </tr>\n",
       "    <tr>\n",
       "      <th>\"buick skylark 320\"</th>\n",
       "      <td>15.0</td>\n",
       "      <td>8</td>\n",
       "      <td>350.0</td>\n",
       "      <td>165.0</td>\n",
       "      <td>3693.</td>\n",
       "      <td>11.5</td>\n",
       "      <td>70</td>\n",
       "      <td>1</td>\n",
       "    </tr>\n",
       "    <tr>\n",
       "      <th>\"plymouth satellite\"</th>\n",
       "      <td>18.0</td>\n",
       "      <td>8</td>\n",
       "      <td>318.0</td>\n",
       "      <td>150.0</td>\n",
       "      <td>3436.</td>\n",
       "      <td>11.0</td>\n",
       "      <td>70</td>\n",
       "      <td>1</td>\n",
       "    </tr>\n",
       "    <tr>\n",
       "      <th>\"amc rebel sst\"</th>\n",
       "      <td>16.0</td>\n",
       "      <td>8</td>\n",
       "      <td>304.0</td>\n",
       "      <td>150.0</td>\n",
       "      <td>3433.</td>\n",
       "      <td>12.0</td>\n",
       "      <td>70</td>\n",
       "      <td>1</td>\n",
       "    </tr>\n",
       "    <tr>\n",
       "      <th>\"ford torino\"</th>\n",
       "      <td>17.0</td>\n",
       "      <td>8</td>\n",
       "      <td>302.0</td>\n",
       "      <td>140.0</td>\n",
       "      <td>3449.</td>\n",
       "      <td>10.5</td>\n",
       "      <td>70</td>\n",
       "      <td>1</td>\n",
       "    </tr>\n",
       "  </tbody>\n",
       "</table>\n",
       "</div>"
      ],
      "text/plain": [
       "                                            mpg: continuous  \\\n",
       "car name: string (unique for each instance)                   \n",
       "\"chevrolet chevelle malibu\"                            18.0   \n",
       "\"buick skylark 320\"                                    15.0   \n",
       "\"plymouth satellite\"                                   18.0   \n",
       "\"amc rebel sst\"                                        16.0   \n",
       "\"ford torino\"                                          17.0   \n",
       "\n",
       "                                            cylinders: multi-valued discrete  \\\n",
       "car name: string (unique for each instance)                                    \n",
       "\"chevrolet chevelle malibu\"                                                8   \n",
       "\"buick skylark 320\"                                                        8   \n",
       "\"plymouth satellite\"                                                       8   \n",
       "\"amc rebel sst\"                                                            8   \n",
       "\"ford torino\"                                                              8   \n",
       "\n",
       "                                            displacement: continuous  \\\n",
       "car name: string (unique for each instance)                            \n",
       "\"chevrolet chevelle malibu\"                                    307.0   \n",
       "\"buick skylark 320\"                                            350.0   \n",
       "\"plymouth satellite\"                                           318.0   \n",
       "\"amc rebel sst\"                                                304.0   \n",
       "\"ford torino\"                                                  302.0   \n",
       "\n",
       "                                             horsepower: continuous  \\\n",
       "car name: string (unique for each instance)                           \n",
       "\"chevrolet chevelle malibu\"                                   130.0   \n",
       "\"buick skylark 320\"                                           165.0   \n",
       "\"plymouth satellite\"                                          150.0   \n",
       "\"amc rebel sst\"                                               150.0   \n",
       "\"ford torino\"                                                 140.0   \n",
       "\n",
       "                                            weight: continuous  \\\n",
       "car name: string (unique for each instance)                      \n",
       "\"chevrolet chevelle malibu\"                              3504.   \n",
       "\"buick skylark 320\"                                      3693.   \n",
       "\"plymouth satellite\"                                     3436.   \n",
       "\"amc rebel sst\"                                          3433.   \n",
       "\"ford torino\"                                            3449.   \n",
       "\n",
       "                                            acceleration: continuous  \\\n",
       "car name: string (unique for each instance)                            \n",
       "\"chevrolet chevelle malibu\"                                     12.0   \n",
       "\"buick skylark 320\"                                             11.5   \n",
       "\"plymouth satellite\"                                            11.0   \n",
       "\"amc rebel sst\"                                                 12.0   \n",
       "\"ford torino\"                                                   10.5   \n",
       "\n",
       "                                            model year: multi-valued discrete  \\\n",
       "car name: string (unique for each instance)                                     \n",
       "\"chevrolet chevelle malibu\"                                                70   \n",
       "\"buick skylark 320\"                                                        70   \n",
       "\"plymouth satellite\"                                                       70   \n",
       "\"amc rebel sst\"                                                            70   \n",
       "\"ford torino\"                                                              70   \n",
       "\n",
       "                                            origin: multi-valued discrete  \n",
       "car name: string (unique for each instance)                                \n",
       "\"chevrolet chevelle malibu\"                                             1  \n",
       "\"buick skylark 320\"                                                     1  \n",
       "\"plymouth satellite\"                                                    1  \n",
       "\"amc rebel sst\"                                                         1  \n",
       "\"ford torino\"                                                           1  "
      ]
     },
     "execution_count": 10,
     "metadata": {},
     "output_type": "execute_result"
    }
   ],
   "source": [
    "df2.head()"
   ]
  },
  {
   "cell_type": "code",
   "execution_count": 11,
   "metadata": {},
   "outputs": [
    {
     "data": {
      "text/html": [
       "<div>\n",
       "<style scoped>\n",
       "    .dataframe tbody tr th:only-of-type {\n",
       "        vertical-align: middle;\n",
       "    }\n",
       "\n",
       "    .dataframe tbody tr th {\n",
       "        vertical-align: top;\n",
       "    }\n",
       "\n",
       "    .dataframe thead th {\n",
       "        text-align: right;\n",
       "    }\n",
       "</style>\n",
       "<table border=\"1\" class=\"dataframe\">\n",
       "  <thead>\n",
       "    <tr style=\"text-align: right;\">\n",
       "      <th></th>\n",
       "      <th>mpg: continuous</th>\n",
       "      <th>cylinders: multi-valued discrete</th>\n",
       "      <th>displacement: continuous</th>\n",
       "      <th>horsepower: continuous</th>\n",
       "      <th>weight: continuous</th>\n",
       "      <th>acceleration: continuous</th>\n",
       "      <th>model year: multi-valued discrete</th>\n",
       "      <th>origin: multi-valued discrete</th>\n",
       "    </tr>\n",
       "  </thead>\n",
       "  <tbody>\n",
       "    <tr>\n",
       "      <th>count</th>\n",
       "      <td>398.000000</td>\n",
       "      <td>398.000000</td>\n",
       "      <td>398.000000</td>\n",
       "      <td>398.000000</td>\n",
       "      <td>398.000000</td>\n",
       "      <td>398.000000</td>\n",
       "      <td>398.000000</td>\n",
       "      <td>398.000000</td>\n",
       "    </tr>\n",
       "    <tr>\n",
       "      <th>mean</th>\n",
       "      <td>23.514573</td>\n",
       "      <td>5.454774</td>\n",
       "      <td>193.425879</td>\n",
       "      <td>104.469388</td>\n",
       "      <td>2970.424623</td>\n",
       "      <td>15.568090</td>\n",
       "      <td>76.010050</td>\n",
       "      <td>1.572864</td>\n",
       "    </tr>\n",
       "    <tr>\n",
       "      <th>std</th>\n",
       "      <td>7.815984</td>\n",
       "      <td>1.701004</td>\n",
       "      <td>104.269838</td>\n",
       "      <td>38.199187</td>\n",
       "      <td>846.841774</td>\n",
       "      <td>2.757689</td>\n",
       "      <td>3.697627</td>\n",
       "      <td>0.802055</td>\n",
       "    </tr>\n",
       "    <tr>\n",
       "      <th>min</th>\n",
       "      <td>9.000000</td>\n",
       "      <td>3.000000</td>\n",
       "      <td>68.000000</td>\n",
       "      <td>46.000000</td>\n",
       "      <td>1613.000000</td>\n",
       "      <td>8.000000</td>\n",
       "      <td>70.000000</td>\n",
       "      <td>1.000000</td>\n",
       "    </tr>\n",
       "    <tr>\n",
       "      <th>25%</th>\n",
       "      <td>17.500000</td>\n",
       "      <td>4.000000</td>\n",
       "      <td>104.250000</td>\n",
       "      <td>76.000000</td>\n",
       "      <td>2223.750000</td>\n",
       "      <td>13.825000</td>\n",
       "      <td>73.000000</td>\n",
       "      <td>1.000000</td>\n",
       "    </tr>\n",
       "    <tr>\n",
       "      <th>50%</th>\n",
       "      <td>23.000000</td>\n",
       "      <td>4.000000</td>\n",
       "      <td>148.500000</td>\n",
       "      <td>95.000000</td>\n",
       "      <td>2803.500000</td>\n",
       "      <td>15.500000</td>\n",
       "      <td>76.000000</td>\n",
       "      <td>1.000000</td>\n",
       "    </tr>\n",
       "    <tr>\n",
       "      <th>75%</th>\n",
       "      <td>29.000000</td>\n",
       "      <td>8.000000</td>\n",
       "      <td>262.000000</td>\n",
       "      <td>125.000000</td>\n",
       "      <td>3608.000000</td>\n",
       "      <td>17.175000</td>\n",
       "      <td>79.000000</td>\n",
       "      <td>2.000000</td>\n",
       "    </tr>\n",
       "    <tr>\n",
       "      <th>max</th>\n",
       "      <td>46.600000</td>\n",
       "      <td>8.000000</td>\n",
       "      <td>455.000000</td>\n",
       "      <td>230.000000</td>\n",
       "      <td>5140.000000</td>\n",
       "      <td>24.800000</td>\n",
       "      <td>82.000000</td>\n",
       "      <td>3.000000</td>\n",
       "    </tr>\n",
       "  </tbody>\n",
       "</table>\n",
       "</div>"
      ],
      "text/plain": [
       "       mpg: continuous  cylinders: multi-valued discrete  \\\n",
       "count       398.000000                        398.000000   \n",
       "mean         23.514573                          5.454774   \n",
       "std           7.815984                          1.701004   \n",
       "min           9.000000                          3.000000   \n",
       "25%          17.500000                          4.000000   \n",
       "50%          23.000000                          4.000000   \n",
       "75%          29.000000                          8.000000   \n",
       "max          46.600000                          8.000000   \n",
       "\n",
       "       displacement: continuous  horsepower: continuous  weight: continuous  \\\n",
       "count                398.000000              398.000000          398.000000   \n",
       "mean                 193.425879              104.469388         2970.424623   \n",
       "std                  104.269838               38.199187          846.841774   \n",
       "min                   68.000000               46.000000         1613.000000   \n",
       "25%                  104.250000               76.000000         2223.750000   \n",
       "50%                  148.500000               95.000000         2803.500000   \n",
       "75%                  262.000000              125.000000         3608.000000   \n",
       "max                  455.000000              230.000000         5140.000000   \n",
       "\n",
       "       acceleration: continuous  model year: multi-valued discrete  \\\n",
       "count                398.000000                         398.000000   \n",
       "mean                  15.568090                          76.010050   \n",
       "std                    2.757689                           3.697627   \n",
       "min                    8.000000                          70.000000   \n",
       "25%                   13.825000                          73.000000   \n",
       "50%                   15.500000                          76.000000   \n",
       "75%                   17.175000                          79.000000   \n",
       "max                   24.800000                          82.000000   \n",
       "\n",
       "       origin: multi-valued discrete  \n",
       "count                     398.000000  \n",
       "mean                        1.572864  \n",
       "std                         0.802055  \n",
       "min                         1.000000  \n",
       "25%                         1.000000  \n",
       "50%                         1.000000  \n",
       "75%                         2.000000  \n",
       "max                         3.000000  "
      ]
     },
     "execution_count": 11,
     "metadata": {},
     "output_type": "execute_result"
    }
   ],
   "source": [
    "df2=df2.astype(\"float\")\n",
    "df2.describe()"
   ]
  },
  {
   "cell_type": "code",
   "execution_count": 12,
   "metadata": {},
   "outputs": [
    {
     "data": {
      "text/plain": [
       "-0.8042028248058979"
      ]
     },
     "execution_count": 12,
     "metadata": {},
     "output_type": "execute_result"
    },
    {
     "data": {
      "image/png": "[encoded data removed]",
      "text/plain": [
       "<Figure size 720x360 with 1 Axes>"
      ]
     },
     "metadata": {
      "needs_background": "light"
     },
     "output_type": "display_data"
    }
   ],
   "source": [
    "plt.figure(figsize=(10,5))\n",
    "sns.scatterplot(df2[\"mpg: continuous\"],df2[\"displacement: continuous\"])\n",
    "plt.title(\"Scatterplot of Mpg and Displacement\")\n",
    "np.corrcoef(df2[\"mpg: continuous\"],df2[\"displacement: continuous\"])[0,1]\n",
    "\n"
   ]
  },
  {
   "cell_type": "code",
   "execution_count": 13,
   "metadata": {},
   "outputs": [
    {
     "data": {
      "text/plain": [
       "-0.771437135002552"
      ]
     },
     "execution_count": 13,
     "metadata": {},
     "output_type": "execute_result"
    },
    {
     "data": {
      "image/png": "[encoded data removed]",
      "text/plain": [
       "<Figure size 720x360 with 1 Axes>"
      ]
     },
     "metadata": {
      "needs_background": "light"
     },
     "output_type": "display_data"
    }
   ],
   "source": [
    "plt.figure(figsize=(10,5))\n",
    "sns.scatterplot(df2[\"mpg: continuous\"],df2[\"horsepower: continuous\"])\n",
    "plt.title(\"Scatterplot of Mpg and horsepower\")\n",
    "np.corrcoef(df2[\"mpg: continuous\"],df2[\"horsepower: continuous\"])[0,1]"
   ]
  },
  {
   "cell_type": "code",
   "execution_count": 14,
   "metadata": {},
   "outputs": [
    {
     "data": {
      "text/plain": [
       "-0.8317409332443351"
      ]
     },
     "execution_count": 14,
     "metadata": {},
     "output_type": "execute_result"
    },
    {
     "data": {
      "image/png": "[encoded data removed]",
      "text/plain": [
       "<Figure size 720x360 with 1 Axes>"
      ]
     },
     "metadata": {
      "needs_background": "light"
     },
     "output_type": "display_data"
    }
   ],
   "source": [
    "plt.figure(figsize=(10,5))\n",
    "sns.scatterplot(df2[\"mpg: continuous\"],df2[\"weight: continuous\"])\n",
    "plt.title(\"Scatterplot of Mpg and weight\")\n",
    "np.corrcoef(df2[\"mpg: continuous\"],df2[\"weight: continuous\"])[0,1]"
   ]
  },
  {
   "cell_type": "code",
   "execution_count": 15,
   "metadata": {},
   "outputs": [
    {
     "data": {
      "text/plain": [
       "0.42028891210165065"
      ]
     },
     "execution_count": 15,
     "metadata": {},
     "output_type": "execute_result"
    },
    {
     "data": {
      "image/png": "[encoded data removed]",
      "text/plain": [
       "<Figure size 720x360 with 1 Axes>"
      ]
     },
     "metadata": {
      "needs_background": "light"
     },
     "output_type": "display_data"
    }
   ],
   "source": [
    "plt.figure(figsize=(10,5))\n",
    "sns.scatterplot(df2[\"mpg: continuous\"],df2[\"acceleration: continuous\"])\n",
    "plt.title(\"Scatterplot of Mpg and acceleration\")\n",
    "np.corrcoef(df2[\"mpg: continuous\"],df2[\"acceleration: continuous\"])[0,1]"
   ]
  },
  {
   "cell_type": "code",
   "execution_count": 16,
   "metadata": {},
   "outputs": [
    {
     "data": {
      "text/plain": [
       "-0.7753962854205543"
      ]
     },
     "execution_count": 16,
     "metadata": {},
     "output_type": "execute_result"
    },
    {
     "data": {
      "image/png": "[encoded data removed]",
      "text/plain": [
       "<Figure size 432x288 with 1 Axes>"
      ]
     },
     "metadata": {
      "needs_background": "light"
     },
     "output_type": "display_data"
    }
   ],
   "source": [
    "sns.boxplot(data=df2,x=\"cylinders: multi-valued discrete\",y=\"mpg: continuous\")\n",
    "np.corrcoef(df2[\"mpg: continuous\"],df2[\"cylinders: multi-valued discrete\"])[0,1]"
   ]
  },
  {
   "cell_type": "code",
   "execution_count": 17,
   "metadata": {},
   "outputs": [
    {
     "data": {
      "text/plain": [
       "0.5792671330833097"
      ]
     },
     "execution_count": 17,
     "metadata": {},
     "output_type": "execute_result"
    },
    {
     "data": {
      "image/png": "[encoded data removed]",
      "text/plain": [
       "<Figure size 432x288 with 1 Axes>"
      ]
     },
     "metadata": {
      "needs_background": "light"
     },
     "output_type": "display_data"
    }
   ],
   "source": [
    "sns.boxplot(data=df2,x=\"model year: multi-valued discrete\",y=\"mpg: continuous\")\n",
    "np.corrcoef(df2[\"mpg: continuous\"],df2[\"model year: multi-valued discrete\"])[0,1]"
   ]
  },
  {
   "cell_type": "code",
   "execution_count": 18,
   "metadata": {},
   "outputs": [
    {
     "data": {
      "text/plain": [
       "0.563450359773843"
      ]
     },
     "execution_count": 18,
     "metadata": {},
     "output_type": "execute_result"
    },
    {
     "data": {
      "image/png": "[encoded data removed]",
      "text/plain": [
       "<Figure size 432x288 with 1 Axes>"
      ]
     },
     "metadata": {
      "needs_background": "light"
     },
     "output_type": "display_data"
    }
   ],
   "source": [
    "sns.boxplot(data=df2,x=\"origin: multi-valued discrete\",y=\"mpg: continuous\")\n",
    "np.corrcoef(df2[\"mpg: continuous\"],df2[\"origin: multi-valued discrete\"])[0,1]"
   ]
  },
  {
   "cell_type": "code",
   "execution_count": 19,
   "metadata": {},
   "outputs": [
    {
     "data": {
      "text/plain": [
       "array([[-0.7064387 ,  1.49819126,  1.0906037 ,  0.66919608,  0.63086987,\n",
       "        -1.29549834, -1.62742629, -0.71514478],\n",
       "       [-1.09075062,  1.49819126,  1.5035143 ,  1.58659918,  0.85433297,\n",
       "        -1.47703779, -1.62742629, -0.71514478],\n",
       "       [-0.7064387 ,  1.49819126,  1.19623199,  1.19342642,  0.55047045,\n",
       "        -1.65857724, -1.62742629, -0.71514478],\n",
       "       [-0.96264665,  1.49819126,  1.06179598,  1.19342642,  0.54692342,\n",
       "        -1.29549834, -1.62742629, -0.71514478],\n",
       "       [-0.83454267,  1.49819126,  1.04259084,  0.93131125,  0.56584093,\n",
       "        -1.84011669, -1.62742629, -0.71514478]])"
      ]
     },
     "execution_count": 19,
     "metadata": {},
     "output_type": "execute_result"
    }
   ],
   "source": [
    "from sklearn.preprocessing import StandardScaler\n",
    "sc=StandardScaler()\n",
    "df2=sc.fit_transform(df2)\n",
    "df2[0:5]"
   ]
  },
  {
   "cell_type": "code",
   "execution_count": 20,
   "metadata": {},
   "outputs": [
    {
     "data": {
      "text/html": [
       "<table class=\"simpletable\">\n",
       "<caption>OLS Regression Results</caption>\n",
       "<tr>\n",
       "  <th>Dep. Variable:</th>            <td>y</td>        <th>  R-squared (uncentered):</th>      <td>   0.821</td> \n",
       "</tr>\n",
       "<tr>\n",
       "  <th>Model:</th>                   <td>OLS</td>       <th>  Adj. R-squared (uncentered):</th> <td>   0.818</td> \n",
       "</tr>\n",
       "<tr>\n",
       "  <th>Method:</th>             <td>Least Squares</td>  <th>  F-statistic:       </th>          <td>   256.0</td> \n",
       "</tr>\n",
       "<tr>\n",
       "  <th>Date:</th>             <td>Fri, 08 Nov 2019</td> <th>  Prob (F-statistic):</th>          <td>9.60e-142</td>\n",
       "</tr>\n",
       "<tr>\n",
       "  <th>Time:</th>                 <td>22:53:44</td>     <th>  Log-Likelihood:    </th>          <td> -222.49</td> \n",
       "</tr>\n",
       "<tr>\n",
       "  <th>No. Observations:</th>      <td>   398</td>      <th>  AIC:               </th>          <td>   459.0</td> \n",
       "</tr>\n",
       "<tr>\n",
       "  <th>Df Residuals:</th>          <td>   391</td>      <th>  BIC:               </th>          <td>   486.9</td> \n",
       "</tr>\n",
       "<tr>\n",
       "  <th>Df Model:</th>              <td>     7</td>      <th>                     </th>              <td> </td>    \n",
       "</tr>\n",
       "<tr>\n",
       "  <th>Covariance Type:</th>      <td>nonrobust</td>    <th>                     </th>              <td> </td>    \n",
       "</tr>\n",
       "</table>\n",
       "<table class=\"simpletable\">\n",
       "<tr>\n",
       "   <td></td>     <th>coef</th>     <th>std err</th>      <th>t</th>      <th>P>|t|</th>  <th>[0.025</th>    <th>0.975]</th>  \n",
       "</tr>\n",
       "<tr>\n",
       "  <th>x1</th> <td>   -0.0910</td> <td>    0.070</td> <td>   -1.300</td> <td> 0.194</td> <td>   -0.229</td> <td>    0.047</td>\n",
       "</tr>\n",
       "<tr>\n",
       "  <th>x2</th> <td>    0.2520</td> <td>    0.100</td> <td>    2.521</td> <td> 0.012</td> <td>    0.055</td> <td>    0.448</td>\n",
       "</tr>\n",
       "<tr>\n",
       "  <th>x3</th> <td>   -0.0556</td> <td>    0.064</td> <td>   -0.866</td> <td> 0.387</td> <td>   -0.182</td> <td>    0.071</td>\n",
       "</tr>\n",
       "<tr>\n",
       "  <th>x4</th> <td>   -0.7279</td> <td>    0.069</td> <td>  -10.494</td> <td> 0.000</td> <td>   -0.864</td> <td>   -0.592</td>\n",
       "</tr>\n",
       "<tr>\n",
       "  <th>x5</th> <td>    0.0362</td> <td>    0.034</td> <td>    1.069</td> <td> 0.286</td> <td>   -0.030</td> <td>    0.103</td>\n",
       "</tr>\n",
       "<tr>\n",
       "  <th>x6</th> <td>    0.3580</td> <td>    0.024</td> <td>   15.027</td> <td> 0.000</td> <td>    0.311</td> <td>    0.405</td>\n",
       "</tr>\n",
       "<tr>\n",
       "  <th>x7</th> <td>    0.1455</td> <td>    0.028</td> <td>    5.160</td> <td> 0.000</td> <td>    0.090</td> <td>    0.201</td>\n",
       "</tr>\n",
       "</table>\n",
       "<table class=\"simpletable\">\n",
       "<tr>\n",
       "  <th>Omnibus:</th>       <td>30.551</td> <th>  Durbin-Watson:     </th> <td>   1.289</td>\n",
       "</tr>\n",
       "<tr>\n",
       "  <th>Prob(Omnibus):</th> <td> 0.000</td> <th>  Jarque-Bera (JB):  </th> <td>  49.230</td>\n",
       "</tr>\n",
       "<tr>\n",
       "  <th>Skew:</th>          <td> 0.515</td> <th>  Prob(JB):          </th> <td>2.04e-11</td>\n",
       "</tr>\n",
       "<tr>\n",
       "  <th>Kurtosis:</th>      <td> 4.381</td> <th>  Cond. No.          </th> <td>    11.7</td>\n",
       "</tr>\n",
       "</table><br/><br/>Warnings:<br/>[1] Standard Errors assume that the covariance matrix of the errors is correctly specified."
      ],
      "text/plain": [
       "<class 'statsmodels.iolib.summary.Summary'>\n",
       "\"\"\"\n",
       "                                 OLS Regression Results                                \n",
       "=======================================================================================\n",
       "Dep. Variable:                      y   R-squared (uncentered):                   0.821\n",
       "Model:                            OLS   Adj. R-squared (uncentered):              0.818\n",
       "Method:                 Least Squares   F-statistic:                              256.0\n",
       "Date:                Fri, 08 Nov 2019   Prob (F-statistic):                   9.60e-142\n",
       "Time:                        22:53:44   Log-Likelihood:                         -222.49\n",
       "No. Observations:                 398   AIC:                                      459.0\n",
       "Df Residuals:                     391   BIC:                                      486.9\n",
       "Df Model:                           7                                                  \n",
       "Covariance Type:            nonrobust                                                  \n",
       "==============================================================================\n",
       "                 coef    std err          t      P>|t|      [0.025      0.975]\n",
       "------------------------------------------------------------------------------\n",
       "x1            -0.0910      0.070     -1.300      0.194      -0.229       0.047\n",
       "x2             0.2520      0.100      2.521      0.012       0.055       0.448\n",
       "x3            -0.0556      0.064     -0.866      0.387      -0.182       0.071\n",
       "x4            -0.7279      0.069    -10.494      0.000      -0.864      -0.592\n",
       "x5             0.0362      0.034      1.069      0.286      -0.030       0.103\n",
       "x6             0.3580      0.024     15.027      0.000       0.311       0.405\n",
       "x7             0.1455      0.028      5.160      0.000       0.090       0.201\n",
       "==============================================================================\n",
       "Omnibus:                       30.551   Durbin-Watson:                   1.289\n",
       "Prob(Omnibus):                  0.000   Jarque-Bera (JB):               49.230\n",
       "Skew:                           0.515   Prob(JB):                     2.04e-11\n",
       "Kurtosis:                       4.381   Cond. No.                         11.7\n",
       "==============================================================================\n",
       "\n",
       "Warnings:\n",
       "[1] Standard Errors assume that the covariance matrix of the errors is correctly specified.\n",
       "\"\"\""
      ]
     },
     "execution_count": 20,
     "metadata": {},
     "output_type": "execute_result"
    }
   ],
   "source": [
    "import statsmodels.api as sm\n",
    "X=df2[:,1:]#Independent\n",
    "Y=df2[:,0]#Dependent\n",
    "regressor_OLS=sm.OLS(endog=Y,exog=X).fit()\n",
    "regressor_OLS.summary()\n"
   ]
  },
  {
   "cell_type": "markdown",
   "metadata": {},
   "source": [
    "###Univariate Regression"
   ]
  },
  {
   "cell_type": "markdown",
   "metadata": {},
   "source": [
    "#As this is univariate regression,so we will consider only one independent variable \n",
    "#which is highly correlated with the dependent variable."
   ]
  },
  {
   "cell_type": "code",
   "execution_count": 21,
   "metadata": {},
   "outputs": [],
   "source": [
    "X=df2[:,4]##Independent variable-Weight\n",
    "Y=df2[:,0]##Target variable-Mpg\n"
   ]
  },
  {
   "cell_type": "code",
   "execution_count": 22,
   "metadata": {},
   "outputs": [],
   "source": [
    "from sklearn.model_selection import train_test_split\n",
    "X_train,X_test,Y_train,Y_test=train_test_split(X,Y,test_size=0.2,random_state=0)\n"
   ]
  },
  {
   "cell_type": "code",
   "execution_count": 23,
   "metadata": {},
   "outputs": [
    {
     "name": "stdout",
     "output_type": "stream",
     "text": [
      "X-Shapes:\n",
      "X_train:\tX_test:\n",
      " (318,) \t (80,)\n"
     ]
    }
   ],
   "source": [
    "print(\"X-Shapes:\\nX_train:\\tX_test:\\n\",X_train.shape,\"\\t\",X_test.shape)"
   ]
  },
  {
   "cell_type": "code",
   "execution_count": 24,
   "metadata": {},
   "outputs": [
    {
     "name": "stdout",
     "output_type": "stream",
     "text": [
      "Y-Shapes:\n",
      "Y_train:\tY_test:\n",
      " (318,) \t (80,)\n"
     ]
    }
   ],
   "source": [
    "print(\"Y-Shapes:\\nY_train:\\tY_test:\\n\",Y_train.shape,\"\\t\",Y_test.shape)"
   ]
  },
  {
   "cell_type": "code",
   "execution_count": 25,
   "metadata": {},
   "outputs": [
    {
     "name": "stdout",
     "output_type": "stream",
     "text": [
      "[[-1.12397176]\n",
      " [ 0.4168531 ]\n",
      " [-1.28417094]\n",
      " [-0.00743201]\n",
      " [-0.30744138]\n",
      " [ 1.31882303]\n",
      " [ 0.96735574]\n",
      " [ 0.54695425]\n",
      " [-0.76667904]\n",
      " [ 0.23917764]\n",
      " [ 1.10328232]\n",
      " [ 0.92463596]\n",
      " [-0.04820998]\n",
      " [ 0.69647349]\n",
      " [-1.1346517 ]\n",
      " [ 1.02560999]\n",
      " [ 0.24403216]\n",
      " [ 0.2294686 ]\n",
      " [-0.62298523]\n",
      " [ 0.8168656 ]\n",
      " [-1.31426896]\n",
      " [ 0.36830789]\n",
      " [ 0.41394038]\n",
      " [ 0.03722958]\n",
      " [ 0.79744752]\n",
      " [ 0.06926942]\n",
      " [ 1.13726396]\n",
      " [ 0.559576  ]\n",
      " [ 0.56928505]\n",
      " [-0.6414324 ]\n",
      " [-0.62978155]\n",
      " [ 0.52171074]\n",
      " [-0.44725158]\n",
      " [ 0.99648286]\n",
      " [-0.43074621]\n",
      " [ 0.26150844]\n",
      " [-0.23268177]\n",
      " [-1.34825061]\n",
      " [ 1.01590094]\n",
      " [-1.92302585]\n",
      " [-1.34242518]\n",
      " [-0.70065756]\n",
      " [ 0.29257737]\n",
      " [ 0.5353034 ]\n",
      " [ 0.29743189]\n",
      " [ 0.30228641]\n",
      " [-0.11034784]\n",
      " [-1.36766869]\n",
      " [ 0.48481639]\n",
      " [ 0.97900659]\n",
      " [ 0.80327294]\n",
      " [ 0.73045513]\n",
      " [-1.28514184]\n",
      " [ 0.87997437]\n",
      " [-0.57444002]\n",
      " [-1.36378508]\n",
      " [ 0.00907336]\n",
      " [-0.08607524]\n",
      " [ 0.58384861]\n",
      " [-0.46375695]\n",
      " [-0.58511996]\n",
      " [ 0.3945223 ]\n",
      " [ 0.17703978]\n",
      " [ 0.13432   ]\n",
      " [-1.48320628]\n",
      " [-1.63660914]\n",
      " [-1.32980343]\n",
      " [-0.47346599]\n",
      " [ 0.3226754 ]\n",
      " [-1.30164721]\n",
      " [ 0.87997437]\n",
      " [-1.486119  ]\n",
      " [ 0.29063556]\n",
      " [-0.65987958]\n",
      " [ 0.5819068 ]\n",
      " [ 0.71977519]\n",
      " [ 0.68579354]\n",
      " [ 0.94017042]\n",
      " [ 0.78385486]\n",
      " [-0.67250134]]\n"
     ]
    }
   ],
   "source": [
    "from sklearn.linear_model import LinearRegression\n",
    "model=LinearRegression()\n",
    "m=len(X_train)\n",
    "n=len(X_test)\n",
    "X_train=X_train.reshape(m,1)\n",
    "Y_train=Y_train.reshape(m,1)\n",
    "X_test=X_test.reshape(n,1)\n",
    "Y_test=Y_test.reshape(n,1)\n",
    "model=model.fit(X_train,Y_train)\n",
    "Y_pred=model.predict(X_test)\n",
    "print(Y_pred)"
   ]
  },
  {
   "cell_type": "code",
   "execution_count": 26,
   "metadata": {},
   "outputs": [
    {
     "data": {
      "text/plain": [
       "0.7407718240772793"
      ]
     },
     "execution_count": 26,
     "metadata": {},
     "output_type": "execute_result"
    }
   ],
   "source": [
    "model.score(X_test,Y_test)"
   ]
  },
  {
   "cell_type": "code",
   "execution_count": 27,
   "metadata": {},
   "outputs": [
    {
     "name": "stdout",
     "output_type": "stream",
     "text": [
      "Coefficient: [[-0.82116861]]\n",
      "Intercept: [0.00089386]\n"
     ]
    }
   ],
   "source": [
    "print(\"Coefficient:\",model.coef_)\n",
    "print(\"Intercept:\",model.intercept_)\n"
   ]
  },
  {
   "cell_type": "code",
   "execution_count": 28,
   "metadata": {},
   "outputs": [
    {
     "name": "stdout",
     "output_type": "stream",
     "text": [
      "MSE: 0.26995384284039925\n",
      "RMSE: 0.5195708256247643\n",
      "Score: 0.7407718240772793\n"
     ]
    }
   ],
   "source": [
    "from sklearn.metrics import mean_squared_error,r2_score\n",
    "mse=mean_squared_error(Y_test,Y_pred)\n",
    "rmse=np.sqrt(mse)\n",
    "score=r2_score(Y_test,Y_pred)\n",
    "print(\"MSE:\",mse)\n",
    "print(\"RMSE:\",rmse)\n",
    "print(\"Score:\",score)"
   ]
  },
  {
   "cell_type": "code",
   "execution_count": 29,
   "metadata": {},
   "outputs": [
    {
     "data": {
      "text/plain": [
       "<matplotlib.legend.Legend at 0x27d061e4a90>"
      ]
     },
     "execution_count": 29,
     "metadata": {},
     "output_type": "execute_result"
    },
    {
     "data": {
      "image/png": "[encoded data removed]",
      "text/plain": [
       "<Figure size 720x360 with 1 Axes>"
      ]
     },
     "metadata": {
      "needs_background": "light"
     },
     "output_type": "display_data"
    }
   ],
   "source": [
    "Y_pred_train=model.predict(X_train)\n",
    "plt.figure(figsize=(10,5))\n",
    "plt.scatter(X_train,Y_train)\n",
    "plt.plot(X_train,Y_pred_train,color=\"red\",label=\"Predicted line\")\n",
    "plt.xlabel(\"Weight\")\n",
    "plt.ylabel(\"mpg\")\n",
    "plt.title(\"Univariate Linear Regression-Trained Data\")\n",
    "plt.legend()\n",
    "\n",
    "\n",
    "\n"
   ]
  },
  {
   "cell_type": "code",
   "execution_count": 30,
   "metadata": {},
   "outputs": [
    {
     "data": {
      "text/plain": [
       "<matplotlib.legend.Legend at 0x27d0515e588>"
      ]
     },
     "execution_count": 30,
     "metadata": {},
     "output_type": "execute_result"
    },
    {
     "data": {
      "image/png": "[encoded data removed]",
      "text/plain": [
       "<Figure size 720x360 with 1 Axes>"
      ]
     },
     "metadata": {
      "needs_background": "light"
     },
     "output_type": "display_data"
    }
   ],
   "source": [
    "plt.figure(figsize=(10,5))\n",
    "plt.scatter(X_test,Y_test)\n",
    "plt.plot(X_test,Y_pred,color=\"red\",label=\"Predicted line\")\n",
    "plt.xlabel(\"Weight\")\n",
    "plt.ylabel(\"mpg\")\n",
    "plt.title(\"Univariate Linear Regression-Test Data\")\n",
    "plt.legend()"
   ]
  },
  {
   "cell_type": "code",
   "execution_count": 31,
   "metadata": {},
   "outputs": [
    {
     "data": {
      "text/plain": [
       "<matplotlib.axes._subplots.AxesSubplot at 0x27d0518b0b8>"
      ]
     },
     "execution_count": 31,
     "metadata": {},
     "output_type": "execute_result"
    },
    {
     "data": {
      "image/png": "[encoded data removed]",
      "text/plain": [
       "<Figure size 720x360 with 1 Axes>"
      ]
     },
     "metadata": {
      "needs_background": "light"
     },
     "output_type": "display_data"
    }
   ],
   "source": [
    "m=len(X)\n",
    "X=X.reshape(m,1)\n",
    "Y_pred_all=model.predict(X)\n",
    "plt.figure(figsize=(10,5))\n",
    "sns.set(style=\"darkgrid\")\n",
    "sns.residplot(Y,Y_pred_all,color=\"g\")"
   ]
  },
  {
   "cell_type": "markdown",
   "metadata": {},
   "source": [
    "###Multivariate Regression"
   ]
  },
  {
   "cell_type": "code",
   "execution_count": 32,
   "metadata": {},
   "outputs": [],
   "source": [
    "import numpy as np\n",
    "import pandas as pd\n",
    "import matplotlib.pyplot as plt\n",
    "plt.rcParams[\"figure.figsize\"]=(20.0,10.0)"
   ]
  },
  {
   "cell_type": "code",
   "execution_count": 33,
   "metadata": {},
   "outputs": [
    {
     "data": {
      "text/plain": [
       "array([[-0.7064387 ,  1.49819126,  1.0906037 ,  0.66919608,  0.63086987,\n",
       "        -1.29549834, -1.62742629, -0.71514478],\n",
       "       [-1.09075062,  1.49819126,  1.5035143 ,  1.58659918,  0.85433297,\n",
       "        -1.47703779, -1.62742629, -0.71514478],\n",
       "       [-0.7064387 ,  1.49819126,  1.19623199,  1.19342642,  0.55047045,\n",
       "        -1.65857724, -1.62742629, -0.71514478],\n",
       "       [-0.96264665,  1.49819126,  1.06179598,  1.19342642,  0.54692342,\n",
       "        -1.29549834, -1.62742629, -0.71514478],\n",
       "       [-0.83454267,  1.49819126,  1.04259084,  0.93131125,  0.56584093,\n",
       "        -1.84011669, -1.62742629, -0.71514478]])"
      ]
     },
     "execution_count": 33,
     "metadata": {},
     "output_type": "execute_result"
    }
   ],
   "source": [
    "df2[0:5]"
   ]
  },
  {
   "cell_type": "code",
   "execution_count": 34,
   "metadata": {},
   "outputs": [
    {
     "name": "stdout",
     "output_type": "stream",
     "text": [
      "0.49999999999999983\n"
     ]
    }
   ],
   "source": [
    "x=df2[:,4]\n",
    "Y=df2[:,0]\n",
    "m=len(x)\n",
    "#a0=np.ones(m)\n",
    "X=x.reshape(m,1)\n",
    "#X=np.append(np.ones((398,1)).astype(int),values=x,axis=1)\n",
    "b=np.array([0])\n",
    "alpha=0.0001##Learning Rate\n",
    "def cost_func(X,Y,b):\n",
    "    l=len(Y)\n",
    "    J=np.sum((X.dot(b)-Y)**2)/(2*l)\n",
    "    return J\n",
    "initial_cost=cost_func(X,Y,b)\n",
    "print(initial_cost)\n",
    "\n",
    "\n",
    "    \n"
   ]
  },
  {
   "cell_type": "code",
   "execution_count": 35,
   "metadata": {},
   "outputs": [],
   "source": [
    "def gradient_descent(X,Y,b,iterations):\n",
    "    cost_history=[0]*iterations\n",
    "    l=len(Y)\n",
    "    for iteration in range(iterations):\n",
    "        h=X.dot(b)\n",
    "        loss=h-Y\n",
    "        gradient=X.T.dot(loss)/l\n",
    "        b=b-alpha*gradient\n",
    "        cost=cost_func(X,Y,b)\n",
    "        cost_history[iteration]=cost\n",
    "    return cost_history,b"
   ]
  },
  {
   "cell_type": "code",
   "execution_count": 36,
   "metadata": {},
   "outputs": [
    {
     "name": "stdout",
     "output_type": "stream",
     "text": [
      "Final Reduced cost:\n",
      " 0.4372967716060474\n",
      "New Coefficients:\n",
      " [-0.07915438]\n"
     ]
    }
   ],
   "source": [
    "cost_history,newb=gradient_descent(X,Y,b,1000)\n",
    "print(\"Final Reduced cost:\\n\",np.min(cost_history))\n",
    "print(\"New Coefficients:\\n\",newb)"
   ]
  },
  {
   "cell_type": "code",
   "execution_count": 37,
   "metadata": {},
   "outputs": [],
   "source": [
    "def rmse(Y,Y_pred):\n",
    "    rmse=np.sqrt(sum((Y-Y_pred)**2)/len(Y))\n",
    "    return rmse\n",
    "def r2_score(Y,Y_pred):\n",
    "    mean_y=np.mean(Y)\n",
    "    ss_t=sum((Y-mean_y)**2)\n",
    "    ss_r=sum((Y-Y_pred)**2)\n",
    "    r2_score=1-(ss_r/ss_t)\n",
    "    return r2_score\n",
    "\n"
   ]
  },
  {
   "cell_type": "code",
   "execution_count": 38,
   "metadata": {},
   "outputs": [
    {
     "name": "stdout",
     "output_type": "stream",
     "text": [
      "RMSE:\n",
      " 0.9351970611652358\n",
      "R2_Score:\n",
      " 0.12540645678790519\n"
     ]
    }
   ],
   "source": [
    "Y_pred=X.dot(newb)\n",
    "print(\"RMSE:\\n\",rmse(Y,Y_pred))\n",
    "print(\"R2_Score:\\n\",r2_score(Y,Y_pred))"
   ]
  },
  {
   "cell_type": "code",
   "execution_count": 39,
   "metadata": {},
   "outputs": [
    {
     "data": {
      "text/plain": [
       "Text(0.5, 0.98, 'Best Fit Line using Gradient descent')"
      ]
     },
     "execution_count": 39,
     "metadata": {},
     "output_type": "execute_result"
    },
    {
     "data": {
      "image/png": "[encoded data removed]",
      "text/plain": [
       "<Figure size 1440x720 with 1 Axes>"
      ]
     },
     "metadata": {},
     "output_type": "display_data"
    }
   ],
   "source": [
    "## By using Learning rate=0.0001 and iterations=1000,we got following predicted line\n",
    "f=plt.figure(figsize=(20,10))\n",
    "sns.scatterplot(x,Y)\n",
    "plt.plot(x,Y_pred,color=\"red\")\n",
    "plt.xlabel(\"Weight\")\n",
    "plt.ylabel(\"Mpg\")\n",
    "f.suptitle(\"Best Fit Line using Gradient descent\",size=25)"
   ]
  },
  {
   "cell_type": "code",
   "execution_count": 41,
   "metadata": {},
   "outputs": [
    {
     "name": "stdout",
     "output_type": "stream",
     "text": [
      "coefficients are:\n",
      "Slope: Intercept:\n",
      " -0.8317409332443344 -6.222905427938174e-17\n"
     ]
    }
   ],
   "source": [
    "mean_x=np.mean(x)\n",
    "mean_y=np.mean(Y)\n",
    "l=len(x)\n",
    "numer=0\n",
    "denom=0\n",
    "for i in range(l):\n",
    "    numer+=(x[i]-mean_x)*(Y[i]-mean_y)\n",
    "    denom+=(x[i]-mean_x)**2\n",
    "m=numer/denom\n",
    "c=mean_y-(m*mean_x)\n",
    "print(\"coefficients are:\\nSlope: Intercept:\\n\",m,c)"
   ]
  },
  {
   "cell_type": "code",
   "execution_count": 42,
   "metadata": {},
   "outputs": [
    {
     "name": "stdout",
     "output_type": "stream",
     "text": [
      "Line equation is:Y= -0.8317409332443344 X+ -6.222905427938174e-17\n"
     ]
    }
   ],
   "source": [
    "print(\"Line equation is:Y=\",m,\"X+\",c)"
   ]
  },
  {
   "cell_type": "code",
   "execution_count": 43,
   "metadata": {},
   "outputs": [
    {
     "name": "stdout",
     "output_type": "stream",
     "text": [
      "Final Reduced cost:\n",
      " 0.1541035106951545\n",
      "New Coefficients:\n",
      " [-0.83170319]\n"
     ]
    }
   ],
   "source": [
    "##Modifying Learning rate and iteractions:-\n",
    "#Increased the no.of iterations from 1000 to 100000\n",
    "\n",
    "cost_history,newb=gradient_descent(X,Y,b,100000)\n",
    "print(\"Final Reduced cost:\\n\",np.min(cost_history))\n",
    "print(\"New Coefficients:\\n\",newb)"
   ]
  },
  {
   "cell_type": "code",
   "execution_count": 44,
   "metadata": {},
   "outputs": [
    {
     "name": "stdout",
     "output_type": "stream",
     "text": [
      "RMSE:\n",
      " 0.555163959015991\n",
      "R2_Score:\n",
      " 0.6917929786096908\n"
     ]
    }
   ],
   "source": [
    "Y_pred=X.dot(newb)\n",
    "print(\"RMSE:\\n\",rmse(Y,Y_pred))\n",
    "print(\"R2_Score:\\n\",r2_score(Y,Y_pred))"
   ]
  },
  {
   "cell_type": "code",
   "execution_count": 45,
   "metadata": {},
   "outputs": [
    {
     "data": {
      "text/plain": [
       "Text(0.5, 0.98, 'Best Fit Line using Gradient descent')"
      ]
     },
     "execution_count": 45,
     "metadata": {},
     "output_type": "execute_result"
    },
    {
     "data": {
      "image/png": "[encoded data removed]",
      "text/plain": [
       "<Figure size 1440x720 with 1 Axes>"
      ]
     },
     "metadata": {},
     "output_type": "display_data"
    }
   ],
   "source": [
    "f=plt.figure(figsize=(20,10))\n",
    "sns.scatterplot(x,Y)\n",
    "plt.plot(x,Y_pred,color=\"red\")\n",
    "plt.xlabel(\"Weight\")\n",
    "plt.ylabel(\"Mpg\")\n",
    "f.suptitle(\"Best Fit Line using Gradient descent\",size=25)"
   ]
  },
  {
   "cell_type": "markdown",
   "metadata": {},
   "source": [
    "####KNN Assignments"
   ]
  },
  {
   "cell_type": "code",
   "execution_count": 46,
   "metadata": {},
   "outputs": [],
   "source": [
    "import pandas as pd\n",
    "import numpy as np\n",
    "import matplotlib.pyplot as plt\n",
    "import seaborn as sns"
   ]
  },
  {
   "cell_type": "code",
   "execution_count": 47,
   "metadata": {},
   "outputs": [
    {
     "data": {
      "text/html": [
       "<div>\n",
       "<style scoped>\n",
       "    .dataframe tbody tr th:only-of-type {\n",
       "        vertical-align: middle;\n",
       "    }\n",
       "\n",
       "    .dataframe tbody tr th {\n",
       "        vertical-align: top;\n",
       "    }\n",
       "\n",
       "    .dataframe thead th {\n",
       "        text-align: right;\n",
       "    }\n",
       "</style>\n",
       "<table border=\"1\" class=\"dataframe\">\n",
       "  <thead>\n",
       "    <tr style=\"text-align: right;\">\n",
       "      <th></th>\n",
       "      <th>Age of patient at time of operation (numerical)</th>\n",
       "      <th>Patient's year of operation (year - 1900, numerical)</th>\n",
       "      <th>Number of positive axillary nodes detected (numerical)</th>\n",
       "      <th>Survival status (class attribute)</th>\n",
       "    </tr>\n",
       "  </thead>\n",
       "  <tbody>\n",
       "    <tr>\n",
       "      <th>0</th>\n",
       "      <td>30</td>\n",
       "      <td>64</td>\n",
       "      <td>1</td>\n",
       "      <td>1</td>\n",
       "    </tr>\n",
       "    <tr>\n",
       "      <th>1</th>\n",
       "      <td>30</td>\n",
       "      <td>62</td>\n",
       "      <td>3</td>\n",
       "      <td>1</td>\n",
       "    </tr>\n",
       "    <tr>\n",
       "      <th>2</th>\n",
       "      <td>30</td>\n",
       "      <td>65</td>\n",
       "      <td>0</td>\n",
       "      <td>1</td>\n",
       "    </tr>\n",
       "    <tr>\n",
       "      <th>3</th>\n",
       "      <td>31</td>\n",
       "      <td>59</td>\n",
       "      <td>2</td>\n",
       "      <td>1</td>\n",
       "    </tr>\n",
       "    <tr>\n",
       "      <th>4</th>\n",
       "      <td>31</td>\n",
       "      <td>65</td>\n",
       "      <td>4</td>\n",
       "      <td>1</td>\n",
       "    </tr>\n",
       "  </tbody>\n",
       "</table>\n",
       "</div>"
      ],
      "text/plain": [
       "   Age of patient at time of operation (numerical)  \\\n",
       "0                                               30   \n",
       "1                                               30   \n",
       "2                                               30   \n",
       "3                                               31   \n",
       "4                                               31   \n",
       "\n",
       "   Patient's year of operation (year - 1900, numerical)  \\\n",
       "0                                                 64      \n",
       "1                                                 62      \n",
       "2                                                 65      \n",
       "3                                                 59      \n",
       "4                                                 65      \n",
       "\n",
       "   Number of positive axillary nodes detected (numerical)  \\\n",
       "0                                                  1        \n",
       "1                                                  3        \n",
       "2                                                  0        \n",
       "3                                                  2        \n",
       "4                                                  4        \n",
       "\n",
       "   Survival status (class attribute)  \n",
       "0                                  1  \n",
       "1                                  1  \n",
       "2                                  1  \n",
       "3                                  1  \n",
       "4                                  1  "
      ]
     },
     "execution_count": 47,
     "metadata": {},
     "output_type": "execute_result"
    }
   ],
   "source": [
    "url=\"http://archive.ics.uci.edu/ml/machine-learning-databases/haberman/haberman.data\"\n",
    "df=pd.read_csv(url,names=[\"Age of patient at time of operation (numerical)\",\"Patient's year of operation (year - 1900, numerical)\",\n",
    "                         \"Number of positive axillary nodes detected (numerical)\",\"Survival status (class attribute)\"])\n",
    "df.head()"
   ]
  },
  {
   "cell_type": "code",
   "execution_count": 48,
   "metadata": {},
   "outputs": [
    {
     "name": "stdout",
     "output_type": "stream",
     "text": [
      "<class 'pandas.core.frame.DataFrame'>\n",
      "RangeIndex: 306 entries, 0 to 305\n",
      "Data columns (total 4 columns):\n",
      "Age of patient at time of operation (numerical)           306 non-null int64\n",
      "Patient's year of operation (year - 1900, numerical)      306 non-null int64\n",
      "Number of positive axillary nodes detected (numerical)    306 non-null int64\n",
      "Survival status (class attribute)                         306 non-null int64\n",
      "dtypes: int64(4)\n",
      "memory usage: 9.6 KB\n"
     ]
    }
   ],
   "source": [
    "df.info()"
   ]
  },
  {
   "cell_type": "code",
   "execution_count": 49,
   "metadata": {},
   "outputs": [
    {
     "data": {
      "text/html": [
       "<div>\n",
       "<style scoped>\n",
       "    .dataframe tbody tr th:only-of-type {\n",
       "        vertical-align: middle;\n",
       "    }\n",
       "\n",
       "    .dataframe tbody tr th {\n",
       "        vertical-align: top;\n",
       "    }\n",
       "\n",
       "    .dataframe thead th {\n",
       "        text-align: right;\n",
       "    }\n",
       "</style>\n",
       "<table border=\"1\" class=\"dataframe\">\n",
       "  <thead>\n",
       "    <tr style=\"text-align: right;\">\n",
       "      <th></th>\n",
       "      <th>Age of patient at time of operation (numerical)</th>\n",
       "      <th>Patient's year of operation (year - 1900, numerical)</th>\n",
       "      <th>Number of positive axillary nodes detected (numerical)</th>\n",
       "      <th>Survival status (class attribute)</th>\n",
       "    </tr>\n",
       "  </thead>\n",
       "  <tbody>\n",
       "    <tr>\n",
       "      <th>count</th>\n",
       "      <td>306.000000</td>\n",
       "      <td>306.000000</td>\n",
       "      <td>306.000000</td>\n",
       "      <td>306.000000</td>\n",
       "    </tr>\n",
       "    <tr>\n",
       "      <th>mean</th>\n",
       "      <td>52.457516</td>\n",
       "      <td>62.852941</td>\n",
       "      <td>4.026144</td>\n",
       "      <td>1.264706</td>\n",
       "    </tr>\n",
       "    <tr>\n",
       "      <th>std</th>\n",
       "      <td>10.803452</td>\n",
       "      <td>3.249405</td>\n",
       "      <td>7.189654</td>\n",
       "      <td>0.441899</td>\n",
       "    </tr>\n",
       "    <tr>\n",
       "      <th>min</th>\n",
       "      <td>30.000000</td>\n",
       "      <td>58.000000</td>\n",
       "      <td>0.000000</td>\n",
       "      <td>1.000000</td>\n",
       "    </tr>\n",
       "    <tr>\n",
       "      <th>25%</th>\n",
       "      <td>44.000000</td>\n",
       "      <td>60.000000</td>\n",
       "      <td>0.000000</td>\n",
       "      <td>1.000000</td>\n",
       "    </tr>\n",
       "    <tr>\n",
       "      <th>50%</th>\n",
       "      <td>52.000000</td>\n",
       "      <td>63.000000</td>\n",
       "      <td>1.000000</td>\n",
       "      <td>1.000000</td>\n",
       "    </tr>\n",
       "    <tr>\n",
       "      <th>75%</th>\n",
       "      <td>60.750000</td>\n",
       "      <td>65.750000</td>\n",
       "      <td>4.000000</td>\n",
       "      <td>2.000000</td>\n",
       "    </tr>\n",
       "    <tr>\n",
       "      <th>max</th>\n",
       "      <td>83.000000</td>\n",
       "      <td>69.000000</td>\n",
       "      <td>52.000000</td>\n",
       "      <td>2.000000</td>\n",
       "    </tr>\n",
       "  </tbody>\n",
       "</table>\n",
       "</div>"
      ],
      "text/plain": [
       "       Age of patient at time of operation (numerical)  \\\n",
       "count                                       306.000000   \n",
       "mean                                         52.457516   \n",
       "std                                          10.803452   \n",
       "min                                          30.000000   \n",
       "25%                                          44.000000   \n",
       "50%                                          52.000000   \n",
       "75%                                          60.750000   \n",
       "max                                          83.000000   \n",
       "\n",
       "       Patient's year of operation (year - 1900, numerical)  \\\n",
       "count                                         306.000000      \n",
       "mean                                           62.852941      \n",
       "std                                             3.249405      \n",
       "min                                            58.000000      \n",
       "25%                                            60.000000      \n",
       "50%                                            63.000000      \n",
       "75%                                            65.750000      \n",
       "max                                            69.000000      \n",
       "\n",
       "       Number of positive axillary nodes detected (numerical)  \\\n",
       "count                                         306.000000        \n",
       "mean                                            4.026144        \n",
       "std                                             7.189654        \n",
       "min                                             0.000000        \n",
       "25%                                             0.000000        \n",
       "50%                                             1.000000        \n",
       "75%                                             4.000000        \n",
       "max                                            52.000000        \n",
       "\n",
       "       Survival status (class attribute)  \n",
       "count                         306.000000  \n",
       "mean                            1.264706  \n",
       "std                             0.441899  \n",
       "min                             1.000000  \n",
       "25%                             1.000000  \n",
       "50%                             1.000000  \n",
       "75%                             2.000000  \n",
       "max                             2.000000  "
      ]
     },
     "execution_count": 49,
     "metadata": {},
     "output_type": "execute_result"
    }
   ],
   "source": [
    "df.describe()"
   ]
  },
  {
   "cell_type": "code",
   "execution_count": 50,
   "metadata": {},
   "outputs": [
    {
     "data": {
      "text/plain": [
       "<matplotlib.axes._subplots.AxesSubplot at 0x27d0664ae80>"
      ]
     },
     "execution_count": 50,
     "metadata": {},
     "output_type": "execute_result"
    },
    {
     "data": {
      "image/png": "[encoded data removed]",
      "text/plain": [
       "<Figure size 720x720 with 2 Axes>"
      ]
     },
     "metadata": {},
     "output_type": "display_data"
    }
   ],
   "source": [
    "plt.figure(figsize=(10,10))\n",
    "sns.heatmap(df.isnull())"
   ]
  },
  {
   "cell_type": "code",
   "execution_count": 51,
   "metadata": {},
   "outputs": [
    {
     "data": {
      "text/plain": [
       "<matplotlib.axes._subplots.AxesSubplot at 0x27d066c5a58>"
      ]
     },
     "execution_count": 51,
     "metadata": {},
     "output_type": "execute_result"
    },
    {
     "data": {
      "image/png": "[encoded data removed]",
      "text/plain": [
       "<Figure size 720x720 with 1 Axes>"
      ]
     },
     "metadata": {},
     "output_type": "display_data"
    }
   ],
   "source": [
    "plt.figure(figsize=(10,10))\n",
    "sns.countplot(df[\"Survival status (class attribute)\"])"
   ]
  },
  {
   "cell_type": "code",
   "execution_count": 52,
   "metadata": {},
   "outputs": [
    {
     "data": {
      "text/plain": [
       "<matplotlib.axes._subplots.AxesSubplot at 0x27d062c0160>"
      ]
     },
     "execution_count": 52,
     "metadata": {},
     "output_type": "execute_result"
    },
    {
     "data": {
      "image/png": "[encoded data removed]",
      "text/plain": [
       "<Figure size 864x504 with 1 Axes>"
      ]
     },
     "metadata": {},
     "output_type": "display_data"
    }
   ],
   "source": [
    "plt.figure(figsize=(12,7))\n",
    "sns.boxplot(x=\"Survival status (class attribute)\",y=\"Age of patient at time of operation (numerical)\",data=df)"
   ]
  },
  {
   "cell_type": "code",
   "execution_count": 53,
   "metadata": {},
   "outputs": [
    {
     "data": {
      "text/plain": [
       "<matplotlib.axes._subplots.AxesSubplot at 0x27d06ac6c18>"
      ]
     },
     "execution_count": 53,
     "metadata": {},
     "output_type": "execute_result"
    },
    {
     "data": {
      "image/png": "[encoded data removed]",
      "text/plain": [
       "<Figure size 720x360 with 1 Axes>"
      ]
     },
     "metadata": {},
     "output_type": "display_data"
    }
   ],
   "source": [
    "plt.figure(figsize=(10,5))\n",
    "sns.boxplot(x=\"Survival status (class attribute)\",y=\"Number of positive axillary nodes detected (numerical)\",data=df)"
   ]
  },
  {
   "cell_type": "code",
   "execution_count": 54,
   "metadata": {},
   "outputs": [
    {
     "data": {
      "text/plain": [
       "<matplotlib.axes._subplots.AxesSubplot at 0x27d06b45cc0>"
      ]
     },
     "execution_count": 54,
     "metadata": {},
     "output_type": "execute_result"
    },
    {
     "data": {
      "image/png": "[encoded data removed]",
      "text/plain": [
       "<Figure size 1440x720 with 2 Axes>"
      ]
     },
     "metadata": {},
     "output_type": "display_data"
    }
   ],
   "source": [
    "data=df.corr()\n",
    "sns.heatmap(data,annot=True,cmap=\"RdYlGn\")"
   ]
  },
  {
   "cell_type": "code",
   "execution_count": 55,
   "metadata": {},
   "outputs": [
    {
     "data": {
      "text/plain": [
       "array([[-2.08214014,  0.35358406, -0.42159203],\n",
       "       [-2.08214014, -0.26292148, -0.14295885],\n",
       "       [-2.08214014,  0.66183684, -0.56090862],\n",
       "       [-1.98942552, -1.18767981, -0.28227544],\n",
       "       [-1.98942552,  0.66183684, -0.00364226]])"
      ]
     },
     "execution_count": 55,
     "metadata": {},
     "output_type": "execute_result"
    }
   ],
   "source": [
    "from sklearn.preprocessing import StandardScaler\n",
    "sc=StandardScaler()\n",
    "X=df.iloc[:,:-1]\n",
    "Y=df.iloc[:,3]\n",
    "#df=sc.fit_transform(df)\n",
    "X=sc.fit_transform(X)\n",
    "X[0:5]"
   ]
  },
  {
   "cell_type": "code",
   "execution_count": 56,
   "metadata": {},
   "outputs": [
    {
     "data": {
      "text/html": [
       "<div>\n",
       "<style scoped>\n",
       "    .dataframe tbody tr th:only-of-type {\n",
       "        vertical-align: middle;\n",
       "    }\n",
       "\n",
       "    .dataframe tbody tr th {\n",
       "        vertical-align: top;\n",
       "    }\n",
       "\n",
       "    .dataframe thead th {\n",
       "        text-align: right;\n",
       "    }\n",
       "</style>\n",
       "<table border=\"1\" class=\"dataframe\">\n",
       "  <thead>\n",
       "    <tr style=\"text-align: right;\">\n",
       "      <th></th>\n",
       "      <th>Principal_component1</th>\n",
       "      <th>Principal_component2</th>\n",
       "      <th>Survival status (class attribute)</th>\n",
       "    </tr>\n",
       "  </thead>\n",
       "  <tbody>\n",
       "    <tr>\n",
       "      <th>0</th>\n",
       "      <td>1.079952</td>\n",
       "      <td>-0.164819</td>\n",
       "      <td>1</td>\n",
       "    </tr>\n",
       "    <tr>\n",
       "      <th>1</th>\n",
       "      <td>1.552517</td>\n",
       "      <td>-0.292351</td>\n",
       "      <td>1</td>\n",
       "    </tr>\n",
       "    <tr>\n",
       "      <th>2</th>\n",
       "      <td>0.843669</td>\n",
       "      <td>-0.101052</td>\n",
       "      <td>1</td>\n",
       "    </tr>\n",
       "    <tr>\n",
       "      <th>3</th>\n",
       "      <td>1.963759</td>\n",
       "      <td>-0.937989</td>\n",
       "      <td>1</td>\n",
       "    </tr>\n",
       "    <tr>\n",
       "      <th>4</th>\n",
       "      <td>1.011230</td>\n",
       "      <td>0.355427</td>\n",
       "      <td>1</td>\n",
       "    </tr>\n",
       "  </tbody>\n",
       "</table>\n",
       "</div>"
      ],
      "text/plain": [
       "   Principal_component1  Principal_component2  \\\n",
       "0              1.079952             -0.164819   \n",
       "1              1.552517             -0.292351   \n",
       "2              0.843669             -0.101052   \n",
       "3              1.963759             -0.937989   \n",
       "4              1.011230              0.355427   \n",
       "\n",
       "   Survival status (class attribute)  \n",
       "0                                  1  \n",
       "1                                  1  \n",
       "2                                  1  \n",
       "3                                  1  \n",
       "4                                  1  "
      ]
     },
     "execution_count": 56,
     "metadata": {},
     "output_type": "execute_result"
    }
   ],
   "source": [
    "from sklearn.decomposition import PCA\n",
    "pc=PCA(n_components=2)\n",
    "principal_components=pc.fit_transform(X)\n",
    "df1=pd.DataFrame(data=principal_components,columns=[\"Principal_component1\",\"Principal_component2\"])\n",
    "df1=pd.concat([df1,Y],axis=1)\n",
    "df1.head()"
   ]
  },
  {
   "cell_type": "code",
   "execution_count": 57,
   "metadata": {},
   "outputs": [
    {
     "data": {
      "text/plain": [
       "array([0.37045668, 0.33215125])"
      ]
     },
     "execution_count": 57,
     "metadata": {},
     "output_type": "execute_result"
    }
   ],
   "source": [
    "pc.explained_variance_ratio_"
   ]
  },
  {
   "cell_type": "code",
   "execution_count": 58,
   "metadata": {},
   "outputs": [],
   "source": [
    "X=df1.iloc[:,:-1]\n",
    "Y=df1.iloc[:,2]\n"
   ]
  },
  {
   "cell_type": "code",
   "execution_count": 59,
   "metadata": {},
   "outputs": [
    {
     "name": "stdout",
     "output_type": "stream",
     "text": [
      "X_shapes:\n",
      "X_train:X_test\n",
      " (244, 2) (62, 2) \n",
      "\n",
      "Y_shapes:\n",
      "Y_train:Y_test\n",
      " (244,) (62,) \n",
      "\n"
     ]
    }
   ],
   "source": [
    "from sklearn.model_selection import train_test_split\n",
    "X_train,X_test,Y_train,Y_test=train_test_split(X,Y,test_size=0.2,random_state=0)\n",
    "print(\"X_shapes:\\nX_train:X_test\\n\",X_train.shape,X_test.shape,\"\\n\")\n",
    "print(\"Y_shapes:\\nY_train:Y_test\\n\",Y_train.shape,Y_test.shape,\"\\n\")"
   ]
  },
  {
   "cell_type": "code",
   "execution_count": 60,
   "metadata": {},
   "outputs": [
    {
     "name": "stdout",
     "output_type": "stream",
     "text": [
      "Training_accuracy:\n",
      " [0.9836065573770492, 0.8442622950819673, 0.860655737704918, 0.7991803278688525, 0.8237704918032787, 0.7909836065573771, 0.7827868852459017, 0.7868852459016393, 0.7622950819672131, 0.7622950819672131, 0.7622950819672131, 0.7663934426229508, 0.7786885245901639, 0.7745901639344263]\n",
      "\n",
      "Test_accuracy:\n",
      " [0.532258064516129, 0.5967741935483871, 0.6290322580645161, 0.5806451612903226, 0.6129032258064516, 0.6290322580645161, 0.5967741935483871, 0.6290322580645161, 0.6290322580645161, 0.6451612903225806, 0.6612903225806451, 0.6290322580645161, 0.6129032258064516, 0.6290322580645161]\n"
     ]
    }
   ],
   "source": [
    "from sklearn.neighbors import KNeighborsClassifier\n",
    "training_accuracy=[]\n",
    "test_accuracy=[]\n",
    "neighbors=range(1,15)\n",
    "for neighbor in neighbors:\n",
    "    knn=KNeighborsClassifier(n_neighbors=neighbor)\n",
    "    knn.fit(X_train,Y_train)\n",
    "    training_accuracy.append(knn.score(X_train,Y_train))\n",
    "    test_accuracy.append(knn.score(X_test,Y_test))\n",
    "print(\"Training_accuracy:\\n\",training_accuracy)\n",
    "print(\"\\nTest_accuracy:\\n\",test_accuracy)"
   ]
  },
  {
   "cell_type": "code",
   "execution_count": 61,
   "metadata": {},
   "outputs": [
    {
     "data": {
      "text/plain": [
       "[<matplotlib.lines.Line2D at 0x27d06c3a2b0>]"
      ]
     },
     "execution_count": 61,
     "metadata": {},
     "output_type": "execute_result"
    },
    {
     "data": {
      "image/png": "[encoded data removed]",
      "text/plain": [
       "<Figure size 864x504 with 1 Axes>"
      ]
     },
     "metadata": {},
     "output_type": "display_data"
    }
   ],
   "source": [
    "plt.figure(figsize=(12,7))\n",
    "plt.plot(neighbors,training_accuracy,color=\"blue\")\n",
    "plt.plot(neighbors,test_accuracy,color=\"green\")"
   ]
  },
  {
   "cell_type": "code",
   "execution_count": 62,
   "metadata": {},
   "outputs": [
    {
     "data": {
      "text/plain": [
       "0.6612903225806451"
      ]
     },
     "execution_count": 62,
     "metadata": {},
     "output_type": "execute_result"
    }
   ],
   "source": [
    "knn=KNeighborsClassifier(n_neighbors=11)\n",
    "knn.fit(X_train,Y_train)\n",
    "knn.score(X_test,Y_test)"
   ]
  },
  {
   "cell_type": "code",
   "execution_count": 63,
   "metadata": {},
   "outputs": [
    {
     "data": {
      "text/plain": [
       "array([1, 1, 1, 1, 1, 1, 1, 2, 2, 1, 1, 1, 1, 1, 1, 1, 1, 1, 1, 1, 1, 1,\n",
       "       1, 2, 1, 2, 1, 1, 1, 1, 1, 1, 1, 1, 1, 1, 1, 1, 1, 1, 2, 2, 1, 1,\n",
       "       1, 1, 1, 1, 1, 1, 1, 1, 1, 1, 1, 1, 1, 1, 1, 1, 1, 1], dtype=int64)"
      ]
     },
     "execution_count": 63,
     "metadata": {},
     "output_type": "execute_result"
    }
   ],
   "source": [
    "Y_pred=knn.predict(X_test)\n",
    "Y_pred"
   ]
  },
  {
   "cell_type": "code",
   "execution_count": 64,
   "metadata": {},
   "outputs": [
    {
     "name": "stdout",
     "output_type": "stream",
     "text": [
      "Classification_report:\n",
      "               precision    recall  f1-score   support\n",
      "\n",
      "           1       0.64      0.97      0.77        37\n",
      "           2       0.83      0.20      0.32        25\n",
      "\n",
      "    accuracy                           0.66        62\n",
      "   macro avg       0.74      0.59      0.55        62\n",
      "weighted avg       0.72      0.66      0.59        62\n",
      "\n",
      "Confusion_matrix:\n",
      " [[36  1]\n",
      " [20  5]]\n"
     ]
    }
   ],
   "source": [
    "from sklearn.metrics import confusion_matrix,classification_report\n",
    "print(\"Classification_report:\\n\",classification_report(Y_test,Y_pred))\n",
    "print(\"Confusion_matrix:\\n\",confusion_matrix(Y_test,Y_pred))\n"
   ]
  },
  {
   "cell_type": "code",
   "execution_count": null,
   "metadata": {},
   "outputs": [],
   "source": []
  }
 ],
 "metadata": {
  "kernelspec": {
   "display_name": "Python 3",
   "language": "python",
   "name": "python3"
  },
  "language_info": {
   "codemirror_mode": {
    "name": "ipython",
    "version": 3
   },
   "file_extension": ".py",
   "mimetype": "text/x-python",
   "name": "python",
   "nbconvert_exporter": "python",
   "pygments_lexer": "ipython3",
   "version": "3.7.3"
  }
 },
 "nbformat": 4,
 "nbformat_minor": 2
}
